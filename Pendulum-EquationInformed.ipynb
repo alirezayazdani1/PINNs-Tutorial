{
 "cells": [
  {
   "cell_type": "markdown",
   "id": "4e79999e",
   "metadata": {},
   "source": [
    "#  Stochastic Optimal Control Tutorial\n",
    "## Introduction: Hamilton-Jacobi-Bellman Equation\n",
    "In optimal control theory, the Hamilton–Jacobi–Bellman (HJB) equation gives a necessary and sufficient condition for optimality of a control with respect to a loss function. It is, in general, a nonlinear partial differential equation in the **value function** $V$, which means its solution is the value function itself. Once this solution is known, it can be used to obtain the **optimal control** $u$ by taking the maximizer (or minimizer) of the Hamiltonian involved in the HJB equation. \n",
    "\n",
    "A **stochastic optimal control** (SOC) problem is defined by minimizing the expected cost functional (or maximizing a gain function) $J$ as the following\n",
    "$$\n",
    "V(t,x) := \\inf_{u \\in \\mathcal{U}[0,T]} J(u) = \\inf_{u \\in \\mathcal{U}[0,T]} \\mathbb{E} \\left[ \\int_0^T f(x(t),u(t)) \\ \\mathrm{d}t +  g(x(T)) \\right],\n",
    "$$\n",
    "where $V(t,x):=\\inf_{u \\in \\mathcal{U}[0,T]} J(u)$ is the value function, $x$ and $u$ are the state and control variables, respectively, $f$ is the running cost and $g$ is the terminal cost functions and $\\mathcal{U}$ is the set of all admissible controls. The state variables $x$ are the solutions of the controlled drift-diffusion stochastic process given the initial conditions $x(0) = \\xi$\n",
    "$$\n",
    "\\mathrm{d}x(t) = b(x(t), u(t)) \\mathrm{d}t + \\Sigma(x(t), u(t)) \\mathrm{d}W(t), \\quad x(0) = \\xi,\n",
    "$$\n",
    "where $b$ is a nonlinear vector-valued drift function, $\\Sigma$ is the diffusion matrix and $W$ is a vector of mutually independent Brownian motions. Using the definition of value function and from Bellman's [Principal of Optimality](https://en.wikipedia.org/wiki/Bellman_equation), the HJB equation can be derived as a nonlinear partial differential equation (PDE) for $V$ as\n",
    "$$\n",
    "V_t + \\inf_{u \\in \\mathcal{U}[0,T]} \\mathcal{H}(x, u, V_x, V_{xx}) = 0, \\\\ \n",
    "V(T,x) = g(x),\n",
    "$$\n",
    "where $\\mathcal{H}$ is known as the **Hamiltonian** and is written as\n",
    "$$\n",
    "\\mathcal{H}(x, u, V_x, V_{xx}) \\triangleq \\frac{1}{2} \\mathrm{Tr} (V_{xx}\\Sigma \\Sigma^T) + V_x^T b(x,u) + f(x,u),\n",
    "$$\n",
    "where $V_x$ is the gradient and $V_{xx}$ is the Hessian of value function, `Tr` is the matrix trace operator and `T` is the matrix transpose.\n",
    "\n",
    "## Equation-informed Deep Learning of SOC\n",
    "\n",
    "Given that a solution $u^{\\ast}$ (known as the optimal control) to the minimization of $\\mathcal{H}$ exists, the unique solution of the HJB equation corresponds by virtue of the nonlinear **Feynman-Kac lemma** to the system of forward-backward stochastic differential equations (FBSDE) as the following\n",
    "$$\n",
    "x(t) = \\xi + \\int_0^T b(x(t), u^{\\ast}(t)) \\ \\mathrm{d}t + \\int_0^T \\Sigma(x(t), u^{\\ast}(t)) \\ \\mathrm{d}W_t, \\quad \\mathrm{forward} \\\\\n",
    "V(t, x(t)) = g(x(T)) + \\int_t^T f(x(t), u^{\\ast}(t)) \\ \\mathrm{d}t - \\int_t^T V^T(t, x(t)) \\Sigma(x(t), u^{\\ast}(t)) \\ \\mathrm{d}W_t, \\quad \\mathrm{backward} \\\\\n",
    "u^{\\ast}(t) = \\underset{u}{\\mathrm{argmin}} \\ \\mathcal{H}\\left( x(t), u, V_x(t,x(t)), V_{xx}(t,x(t) \\right).\n",
    "$$\n",
    "Here, $V(t, x(t))$ is the evolution of value function along a path of $x(t)$ thus, $V(t, x(t))$ is a stochastic process (similarly for $V_x$ and $V_{xx}$). While $x(t)$ evolves forward in time due to its initial condition $\\xi$, $V(t, x(t))$ evolves backward in time due to its terminal condition $g(x(T))$. As a result, solving such a coupled system is not straight-forward.\n",
    "\n",
    "One may use an *iterative* way to address such problem i.e., first, solve for $V(t, x(t))$ starting from an initial condition guess $V(0, x(t))$. Then, compare its terminal value $V(T, x(T))$ to the terminal condition, and adjust the initial condition accordingly such that the terminal condition is approximately satisfied. This fits easily into the deep learning framework as neural networks can approximate any function such as $V(t, x(t))$ in this case. Furthermore, any adjustment to the initial guess for $V$ can be achieved by minimizing a proper `loss` function. A generic algorithm to solve the FBSDE problem using equation-informed deep learning is given below.\n",
    "\n",
    "<img src=\"./figures/DeepFBSDE-generic.PNG\" alt=\"drawing\" width=\"500\"/>\n",
    "\n",
    "---"
   ]
  },
  {
   "cell_type": "markdown",
   "id": "7e74a31d",
   "metadata": {},
   "source": [
    "## Inverted Pendulum Problem\n",
    "\n",
    "In this tutorial, we aim to solve the classic Inverted Pendulum control problem by solving the FBSDE equations. The goal is to apply torque (i.e., the control) such that the pendulum stays in the upright position. This problem can be solved using conventional policy gradient methods such as deep deterministic policy gradient (DDPG). A solution of this control problem using DDPG algorithm and [OpenAIGym](http://gym.openai.com/envs/Pendulum-v0/) environment is provided in this [notebook](). Note that the gym environment provides deterministic observations for the pendulum problem. To make the problem stochastic, we have added noise to pendulum velocity in a new gym environment `gym_StochPendulum` that must be installed first. Furthermore, to render and view the pundulum swing as a video, a few packages must be installed and a utility function to show the video is provided for that purpose."
   ]
  },
  {
   "cell_type": "code",
   "execution_count": 1,
   "id": "e95626a7",
   "metadata": {},
   "outputs": [],
   "source": [
    "# !pip install gym > /dev/null 2>&1\n",
    "# !pip install -e gym-StochPendulum > /dev/null 2>&1\n",
    "# !pip install pyvirtualdisplay > /dev/null 2>&1\n",
    "# !apt-get install -y xvfb python-opengl ffmpeg > /dev/null 2>&1"
   ]
  },
  {
   "cell_type": "code",
   "execution_count": 2,
   "id": "aef0556a",
   "metadata": {},
   "outputs": [],
   "source": [
    "import numpy as np\n",
    "import numpy.random as npr\n",
    "\n",
    "import torch\n",
    "from torch import nn\n",
    "import torch.nn.functional as F\n",
    "import torch.optim as optim\n",
    "from torch.optim.lr_scheduler import ReduceLROnPlateau\n",
    "from torch import autograd\n",
    "\n",
    "from time import time\n",
    "\n",
    "from tqdm import trange\n",
    "\n",
    "import gym\n",
    "import gym_StochPendulum\n",
    "from gym import logger as gymlogger\n",
    "from gym.wrappers import Monitor\n",
    "gymlogger.set_level(40)              # error only\n",
    "\n",
    "import matplotlib\n",
    "import matplotlib.pyplot as plt\n",
    "%matplotlib inline\n",
    "import math\n",
    "\n",
    "from os import path\n",
    "import glob\n",
    "import io\n",
    "import base64\n",
    "import ipywidgets as widgets\n",
    "from IPython.display import HTML\n",
    "from IPython import display as ipythondisplay\n",
    "from pyvirtualdisplay import Display\n",
    "\n",
    "\"\"\"\n",
    "Utility functions to enable video recording of gym environment and displaying it\n",
    "To enable video, run \"env = wrap_env(env)\"\"\n",
    "\"\"\"\n",
    "def show_video(path_to_video):\n",
    "    if path.exists(path_to_video):\n",
    "        mp4 = path_to_video\n",
    "        video = io.open(mp4, 'r+b').read()\n",
    "        encoded = base64.b64encode(video)\n",
    "        ipythondisplay.display(HTML(data='''<video alt=\"test\" autoplay loop controls style=\"height: 300px;\">\n",
    "                <source src=\"data:video/mp4;base64,{0}\" type=\"video/mp4\" /> </video>'''.format(encoded.decode('ascii'))))\n",
    "    else:\n",
    "        print('Video cannot be found...')\n",
    "\n",
    "def wrap_env(env):\n",
    "    env = Monitor(env, './video', force=True)\n",
    "    return env"
   ]
  },
  {
   "cell_type": "code",
   "execution_count": 3,
   "id": "2bc0b24f",
   "metadata": {},
   "outputs": [
    {
     "data": {
      "application/vnd.jupyter.widget-view+json": {
       "model_id": "dd8e21f5722e4e4ca146121b67492a73",
       "version_major": 2,
       "version_minor": 0
      },
      "text/plain": [
       "HBox(children=(Output(), Output()))"
      ]
     },
     "metadata": {},
     "output_type": "display_data"
    }
   ],
   "source": [
    "widget1 = widgets.Output()\n",
    "widget2 = widgets.Output()\n",
    "\n",
    "with widget1:\n",
    "    show_video('./video/openaigym-pendulum.mp4')\n",
    "with widget2:\n",
    "    show_video('./video/pendulum-phase-space.mp4')\n",
    "\n",
    "display(widgets.HBox([widget1, widget2]))"
   ]
  },
  {
   "cell_type": "markdown",
   "id": "91abdd38",
   "metadata": {},
   "source": [
    "### Problem setup\n",
    "\n",
    "The state of the pendulum at any time can be dexcribed by $x=(\\theta, \\dot{\\theta})$, where $\\theta$ is radial position and $\\dot{\\theta}$ is angular velocity of pendulum. Integrating the equations of motion for pendulum, we obtain the state of the pendulum $x(t)$ at any time\n",
    "$$\n",
    "\\theta_{n+1} = \\theta_n + \\dot{\\theta}_n \\Delta t, \\\\\n",
    "\\dot{\\theta}_{n+1} = \\dot{\\theta}_n + \\left(\\frac{u}{I} - \\frac{b}{I} \\dot{\\theta}_n - \\frac{g}{l} \\mathrm{sin}(\\theta_n)\\right) \\Delta t + \\sigma \\Delta W_n,\n",
    "$$\n",
    "where `l` is pendulum arm length, $I=ml^2$ is pendulum inertia with `m` as its mass, $g=10$ is the gravitational acceleration, `b` is pendulum damping coefficient, `u` is the applied torque or the control to swing the pundulum, $\\sigma$ is the level of noise added to pendulum velocity and $\\Delta W_n=\\sqrt{\\Delta t} \\mathcal{N}(0,1)$ is the Brownian noise increment. These paramaters are set in the `Config` class below. In addition, same parameters are used in `gym_StochPendulum` environment so we can validate the model predictions after training the neural network. Note that to prevent unrealistically high values, the torque and pendulum velocity are clipped above a certain threshold.\n",
    "\n",
    "There are two types of costs, namely, the control cost in the form of $0.5 R u^2$ and the state cost as $0.5 Q (x-x^{target})^2$. The algorithm tries to minimize their sum through the swing process. Here, `R` and `Q` are cost function parameters, and the target state $x^{target} = (\\pi, 0)$ is the state in which the controller wants the pendulum to be (i.e., upright position at $\\theta=\\pi$ and zero angular velocity).\n",
    "\n",
    "In addition to the running cost, there is a terminal cost at the end of each episode that should be accounted for. The terminal cost is computed similar to the state cost at terminal time i.e., $0.5 Q \\left(x(T)-x^{target}\\right)^2$."
   ]
  },
  {
   "cell_type": "markdown",
   "id": "d5663189",
   "metadata": {},
   "source": [
    "### Optimal control\n",
    "The quadratic costs lead to a linear quadratic Hamiltonanian for which the minimizer i.e., the optimal control $u^{\\ast}$ can be analytically derived. To find the optimal control, we take the gradient of hamiltonian with respect to `u` and set it to zero i.e., $\\partial \\mathcal{H} / \\partial u = 0$. This equation can be solved analytically to obtain optimal control\n",
    "$$\n",
    "u^{\\ast}(t, x(t)) = -\\frac{1}{R} G^T V_x(t, x(t))\n",
    "$$\n",
    "where `G` represents the control dynamics (is known) and $V_x$ is the gradient of the value function."
   ]
  },
  {
   "cell_type": "code",
   "execution_count": 4,
   "id": "20dcaf49",
   "metadata": {},
   "outputs": [],
   "source": [
    "\"\"\" Class for neural network and pendulum environment parameters \"\"\"\n",
    "class Config(object):\n",
    "    \"\"\" neural network and optimizer-related parameters \"\"\"\n",
    "    batch_size = 128\n",
    "    logging_frequency_valid = 10    # frequency of validation\n",
    "    clip_norm = True                # whether clip the gradient of the loss function\n",
    "    max_gradient_norm = 1.\n",
    "    random_seed = 1234\n",
    "    n_hidden = 32                   # number of neurons in hidden layers\n",
    "    verbose = True\n",
    "    \n",
    "    \"\"\" number of steps and terminal time \"\"\"\n",
    "    n_state = 2\n",
    "    T_terminal = 10.\n",
    "    n_timestep = 200\n",
    "    \"\"\" pendulum parameters \"\"\"\n",
    "    max_speed = 8.                  # clip values of angular velocity beyond the threshold\n",
    "    max_torque = 10.                # clip values of torque (control) beyond the threshold\n",
    "    g = 10.                         # gravitational acceleration\n",
    "    m = 2.                          # pendulum mass\n",
    "    l = 0.5                         # pendulum arm length\n",
    "    b = 0.1                         # pendulum damping coefficient\n",
    "    I = m * l**2                    # pendulum inertia\n",
    "    sigma = [0., 1.]                # level of noise added to the pendulum state variables\n",
    "    R = 0.1                         # control cost parameter\n",
    "    Q = [4., 0.05]                  # state cost parameter\n",
    "    G = [0., 1./I]                  # controller dynamics parameter\n",
    "    target = [np.pi, 0.]            # target state [upright poisiton, zero velocity]\n",
    "    init_state = [0., 0.]           # initial state for training episodes\n",
    "    \n",
    "    use_gpu = False\n",
    "    if use_gpu:\n",
    "        device = 'cuda:0'\n",
    "    else:\n",
    "        device = 'cpu'"
   ]
  },
  {
   "cell_type": "markdown",
   "id": "b6911828",
   "metadata": {},
   "source": [
    "---\n",
    "## Model Implementation"
   ]
  },
  {
   "cell_type": "code",
   "execution_count": 5,
   "id": "20ad3d95",
   "metadata": {},
   "outputs": [],
   "source": [
    "\"\"\" Setup a feed-forward neural network by subclassing using PyTorch framework \"\"\"\n",
    "class HJBNet(nn.Module):\n",
    "    def __init__(self, n_in: int, n_out: int, n_hidden: int=256):\n",
    "        super().__init__()\n",
    "        \"\"\" contains 3 layers with softplus activation \"\"\"\n",
    "        self.HJB_net = nn.Sequential(\n",
    "            nn.Linear(n_in, n_hidden),\n",
    "            nn.Softplus(),\n",
    "            nn.Linear(n_hidden, n_hidden),\n",
    "            nn.Softplus(),\n",
    "            nn.Linear(n_hidden, n_out)\n",
    "        )\n",
    "        \n",
    "    def forward(self, t, x):\n",
    "        z = torch.cat((t, x), dim=-1)\n",
    "        return self.HJB_net(z)"
   ]
  },
  {
   "cell_type": "code",
   "execution_count": 6,
   "id": "b29db4f3",
   "metadata": {},
   "outputs": [],
   "source": [
    "\"\"\" Create an environment class for pendulum with the necessary methods to \n",
    "compute the quantities of interest such as the costs and also integrate the FBSDE equations \"\"\"\n",
    "class PendulumEnv():\n",
    "    def __init__(self, cfg):\n",
    "        self.g = cfg.g                    # gravitational acceleration\n",
    "        self.m = cfg.m                    # pendulum mass\n",
    "        self.l = cfg.l                    # pendulum arm length\n",
    "        self.b = cfg.b                    # pendulum damping coefficient\n",
    "        self.I = cfg.I                    # pendulum inertia\n",
    "        self.max_speed = cfg.max_speed    # maximum pendulum speed\n",
    "        self.max_torque = cfg.max_torque  # maximum applied torque (control)\n",
    "        \n",
    "        self.device = cfg.device\n",
    "        \n",
    "        self.sigma = torch.Tensor( np.diag(cfg.sigma) ).to(self.device)         # Gaussian noise added to pendulum velocity\n",
    "        self.R = torch.Tensor( np.array([[cfg.R]]) ).to(self.device)            # control cost parameter\n",
    "        self.Q = torch.Tensor( np.array([cfg.Q]) ).to(self.device)              # state cost parameter\n",
    "        self.target = torch.Tensor( np.array([cfg.target]) ).to(self.device)    # target state to achieve\n",
    "        self.G = torch.Tensor( np.array([cfg.G]) ).to(self.device)              # controller dynamics parameter\n",
    "    \n",
    "    \"\"\" running cost function \"\"\"\n",
    "    def cost(self, x, u): # M x D, M x 1\n",
    "        batch_size = x.shape[0]\n",
    "        Q = self.Q.repeat(batch_size, 1) # M x D\n",
    "        target = self.target.repeat(batch_size, 1)\n",
    "        R = self.R.repeat(batch_size, 1)\n",
    "\n",
    "        state_cost = 0.5 * (Q*(x-target)**2).sum(dim=1, keepdim=True)\n",
    "        control_cost = 0.5 * R * u**2\n",
    "        return state_cost + control_cost # M x 1\n",
    "    \n",
    "    \"\"\" terminal cost function \"\"\"\n",
    "    def terminal_cost(self, x): # M x D\n",
    "        batch_size = x.shape[0]\n",
    "        Q = self.Q.repeat(batch_size, 1)\n",
    "        target = self.target.repeat(batch_size, 1)\n",
    "        return 0.5 * (Q*(x-target)**2).sum(dim=1, keepdim=True) # M x 1\n",
    "    \n",
    "    \"\"\" gradient of terminal cost with respect to state x, which is analytically derived \"\"\"\n",
    "    def grad_terminal_cost(self, x): # M x D\n",
    "        batch_size = x.shape[0]\n",
    "        Q = self.Q.repeat(batch_size, 1)\n",
    "        target = self.target.repeat(batch_size, 1)\n",
    "        return Q * (x-target) # M x D\n",
    "    \n",
    "    \"\"\" drift term \"\"\"\n",
    "    def b_(self, x, u): # M x D, M x 1\n",
    "        F = (-self.b/self.I)*x[:,1:2] - (self.g/self.l)*torch.sin(x[:,0:1])\n",
    "        b0 = x[:,1:2].clone()\n",
    "        b1 = F + u/self.I\n",
    "        return torch.cat((b0, b1), dim=-1) # M x D\n",
    "        \n",
    "    \"\"\" standard deviation of the noise \"\"\"\n",
    "    def sigma_(self, batch_size):\n",
    "        sigma_l = batch_size * [self.sigma]\n",
    "        return torch.stack(sigma_l, dim=0) # M x D x D\n",
    "    \n",
    "    \"\"\" function to compute the optimal control from the analytic equation \"\"\"\n",
    "    def optimal_control(self, v_x): # M x D\n",
    "        batch_size = v_x.shape[0]\n",
    "        R = self.R.repeat(batch_size, 1) # M x 1\n",
    "        G = self.G.repeat(batch_size, 1) # M x D\n",
    "        return -torch.div(1., R) * (G*v_x).sum(dim=1, keepdim=True) # M x 1\n",
    "    \n",
    "    def step(self, dt, dW, x, v, v_x): # M x 1, M x D, M x D, M x 1, M x D\n",
    "        batch_size = x.shape[0]\n",
    "        sigma_dW = torch.matmul(self.sigma_(batch_size), dW.unsqueeze(dim=-1)).squeeze(dim=-1)\n",
    "        \n",
    "        u_opt = self.optimal_control(v_x) # M x 1\n",
    "        u_opt = torch.clamp(u_opt, -self.max_torque, self.max_torque)\n",
    "        \n",
    "        h = self.cost(x, u_opt) # M x 1   running cost\n",
    "        \n",
    "        \"\"\" integrate the sde for state x \"\"\"\n",
    "        def forward_sde():\n",
    "            return x + self.b_(x, u_opt)*dt + sigma_dW\n",
    "        \n",
    "        \"\"\" integrate the sde for the value function \"\"\"\n",
    "        def backward_sde():\n",
    "            return v - h*dt + (v_x*sigma_dW).sum(dim=1, keepdim=True)\n",
    "        return forward_sde(), backward_sde(), h, u_opt"
   ]
  },
  {
   "cell_type": "code",
   "execution_count": 7,
   "id": "1a691e00",
   "metadata": {},
   "outputs": [],
   "source": [
    "\"\"\" Main class for streaming data, neural network training and model inference \"\"\"\n",
    "class DeepFBSDE():\n",
    "    def __init__(self, cfg):\n",
    "        self.cfg = cfg\n",
    "        torch.manual_seed(self.cfg.random_seed)\n",
    "        npr.seed(self.cfg.random_seed)\n",
    "        self.cost_history = []                  # cost function is computed at every timestep; good controller must achieve smaller cost for the episode\n",
    "        self.loss_history = []                  # Adam optimization is directly applied to the loss function\n",
    "        \n",
    "        self.T = self.cfg.T_terminal            # final time of the episode\n",
    "        self.M = self.cfg.batch_size            # batch size\n",
    "        self.N = self.cfg.n_timestep            # number of steps in the episode\n",
    "        self.D = self.cfg.n_state               # number of state variables\n",
    "        \n",
    "        self.max_speed = self.cfg.max_speed\n",
    "        self.max_torque = self.cfg.max_torque\n",
    "        self.g = self.cfg.g\n",
    "        self.m = self.cfg.m\n",
    "        self.l = self.cfg.l\n",
    "        self.init_state = self.cfg.init_state   # initial state of the episode for training\n",
    "        \n",
    "        self.device = torch.device(self.cfg.device)\n",
    "        \n",
    "        print('Using Pendulum environment')\n",
    "        self.env = PendulumEnv(self.cfg)\n",
    "        \n",
    "        print(f'Using a batch size of {self.M} episodes')\n",
    "        self.Vnet = HJBNet(n_in=self.D+1, n_out=1, n_hidden=self.cfg.n_hidden).to(self.device)\n",
    "        \n",
    "        print('\\nModel trainable paramaters:')\n",
    "        for name, param in self.Vnet.named_parameters():\n",
    "            if param.requires_grad:\n",
    "                print(name, ', shape:', list(param.shape))\n",
    "        print('\\n')\n",
    "    \n",
    "    \"\"\" reset at the beginning of each episode by setting the state initial conditions \"\"\"\n",
    "    def reset(self, batch_size):\n",
    "        high = np.repeat(np.array([self.init_state]), batch_size, axis=0)\n",
    "        Xi = npr.uniform(low=-high, high=high)\n",
    "        return Xi            # x(0)\n",
    "\n",
    "    \"\"\" the neural network takes the state as input and outputs value function\n",
    "    using PyTorch autograd the gradient of value function is also computed \"\"\"\n",
    "    def net_v_z(self, t, x): # M x 1, M x D\n",
    "        v = self.Vnet(t, x)  # M x 1\n",
    "        z = autograd.grad(outputs=v, inputs=x, grad_outputs=torch.ones_like(v), create_graph=True)[0] # M x D\n",
    "        return v, z          # V and V_x\n",
    "        \n",
    "    \"\"\" to compute the loss, the system of FBSDE for the state and value function must be integrated forward\n",
    "    in time up to the terminal time at which point we are able to compute the loss \"\"\"\n",
    "    def loss_function(self, t, Xi, W):\n",
    "        \"\"\" keep track of states, value function and optimal control through the episodes \"\"\"\n",
    "        cost_tot = 0\n",
    "        X_list = []\n",
    "        Y_list = []\n",
    "        U_list = []\n",
    "        \n",
    "        t0 = t[:,0,:]                 # M x 1\n",
    "        W0 = W[:,0,:]                 # M x D\n",
    "        X0 = Xi                       # M x D\n",
    "        Y0, Z0 = self.net_v_z(t0, X0) # output: M x 1, M x D\n",
    "        \n",
    "        X_list.append(X0)             # keep track of states through the episode\n",
    "        Y_list.append(Y0)             # keep track of value function through the episode\n",
    "        \n",
    "        for n in range(0, self.N):\n",
    "            t1 = t[:,n+1,:]\n",
    "            W1 = W[:,n+1,:]\n",
    "            dt = t1 - t0\n",
    "            dW = W1 - W0\n",
    "            \n",
    "            X1, Y1, cost, U_opt = self.env.step(dt, dW, X0, Y0, Z0)    # take one step forward\n",
    "            \n",
    "            _, Z1 = self.net_v_z(t1, X1)                               # take gradient of V using autograd\n",
    "\n",
    "            t0 = t1\n",
    "            W0 = W1\n",
    "            X0 = X1\n",
    "            Y0 = Y1\n",
    "            Z0 = Z1\n",
    "            \n",
    "            cost_tot += cost.mean()   # keep track of the cost through the episode\n",
    "            X_list.append(X0)\n",
    "            Y_list.append(Y0)\n",
    "            U_list.append(U_opt)      # keep track of the optimal control through the episode\n",
    "            \n",
    "        \"\"\" compute the loss at the end of the episode by comparing with target V and V_x \"\"\"\n",
    "        loss = F.mse_loss(input=Y1, target=self.env.terminal_cost(X1.detach())) + \\\n",
    "               F.mse_loss(input=Z1, target=self.env.grad_terminal_cost(X1.detach()))\n",
    "\n",
    "        X = torch.stack(X_list, dim=1).squeeze()\n",
    "        Y = torch.stack(Y_list, dim=1).squeeze()\n",
    "        U = torch.stack(U_list, dim=1).squeeze()\n",
    "        return loss, cost_tot, X, Y, U\n",
    "        \n",
    "    \"\"\" prepare input training data as a batch of episodes of size M and duration T \"\"\"\n",
    "    def fetch_batch(self, batch_size):\n",
    "        T = self.T\n",
    "        M = batch_size\n",
    "        N = self.N\n",
    "        D = self.D\n",
    "        \n",
    "        Dt = np.zeros((M, N+1, 1))\n",
    "        DW = np.zeros((M, N+1, D))\n",
    "        Xi = self.reset(batch_size)\n",
    "        \n",
    "        dt = T / N\n",
    "        Dt[:,1:,:] = dt\n",
    "        DW[:,1:,:] = np.sqrt(dt) * npr.normal(size=(M, N, D))\n",
    "        \n",
    "        \"\"\" compute timestep size and Brownian increments that are needed for solving system of FBSDE \"\"\"\n",
    "        t = np.cumsum(Dt, axis=1) # M x (N+1) x 1\n",
    "        W = np.cumsum(DW, axis=1) # M x (N+1) x D\n",
    "        \n",
    "        t_batch = torch.as_tensor(t, dtype=torch.float, device=self.device).requires_grad_(True)\n",
    "        Xi_batch = torch.as_tensor(Xi, dtype=torch.float, device=self.device).requires_grad_(True)\n",
    "        W_batch = torch.as_tensor(W, dtype=torch.float, device=self.device).requires_grad_(True)\n",
    "        return t_batch, Xi_batch, W_batch\n",
    "    \n",
    "    def train_loop(self, n_epoch, init_lr_value, fixed_lr=True, l2_reg=0.):\n",
    "        \"\"\" Adam optimizer with l2 regularization \"\"\"\n",
    "        opt = optim.Adam(params=[{'params': self.Vnet.parameters()}], lr=init_lr_value, weight_decay=l2_reg)\n",
    "        \"\"\" setup the learning rate scheduler \"\"\"\n",
    "        if fixed_lr:\n",
    "            print('Using a fixed learning rate of:', init_lr_value)\n",
    "            lr_sched = ReduceLROnPlateau(opt, 'min', patience=1000, factor=0.9999, verbose=True)\n",
    "        else:\n",
    "            lr_sched = ReduceLROnPlateau(opt, 'min', patience=3, factor=0.75, verbose=True)\n",
    "        \n",
    "        pbar = trange(n_epoch)                                                   # each epoch is considered as going through one batch of episodes\n",
    "        for epoch in pbar:\n",
    "            iter_start_time = time()\n",
    "            t_batch, Xi_batch, W_batch = self.fetch_batch(batch_size=self.M)     # get the batch of episodes\n",
    "            loss, _, _, _, _ = self.loss_function(t_batch, Xi_batch, W_batch)    # compute MSE for the batch of episodes\n",
    "            opt.zero_grad()\n",
    "            loss.backward(retain_graph=True)                                     # compute the gradient of loss\n",
    "            if self.cfg.clip_norm:                                               # clip the gradients above a threshold\n",
    "                nn.utils.clip_grad_norm_(self.Vnet.parameters(), self.cfg.max_gradient_norm)\n",
    "            opt.step()                                                           # backprop the grads to update parameters\n",
    "            \n",
    "            \"\"\" validate every xxx epochs and keep the history of the loss and cost values \"\"\"\n",
    "            if epoch%self.cfg.logging_frequency_valid == 0:\n",
    "                iter_time = time() - iter_start_time\n",
    "                t_batch, Xi_batch, W_batch = self.fetch_batch(batch_size=self.M)\n",
    "                loss, cost, _, _, _ = self.loss_function(t_batch, Xi_batch, W_batch)\n",
    "                lr_sched.step(loss)\n",
    "                self.loss_history.append(loss)\n",
    "                self.cost_history.append(cost)\n",
    "                self.lr = opt.param_groups[0]['lr']\n",
    "                pbar.set_postfix({'NN loss': loss.item(), 'Avg. cost': cost.item(), 'time/iter': iter_time})\n",
    "        return\n",
    "    \n",
    "    \"\"\" model prediction for the test episodes \"\"\"\n",
    "    def predict(self, n_episode):\n",
    "        t_test, Xi_test, W_test = self.fetch_batch(batch_size=n_episode)\n",
    "        test_loss, test_cost, X_pred, v_pred, u_pred = self.loss_function(t_test, Xi_test, W_test)\n",
    "        \n",
    "        t_test = t_test.squeeze(dim=-1).cpu().data.numpy()\n",
    "        X_pred = X_pred.cpu().data.numpy()\n",
    "        v_pred = v_pred.cpu().data.numpy()\n",
    "        u_pred = u_pred.cpu().data.numpy()\n",
    "        return t_test, X_pred, v_pred, u_pred, test_loss.item(), test_cost.item()"
   ]
  },
  {
   "cell_type": "markdown",
   "id": "4e71e846",
   "metadata": {},
   "source": [
    "---\n",
    "## Model Training and Validation"
   ]
  },
  {
   "cell_type": "code",
   "execution_count": 8,
   "id": "38991de4",
   "metadata": {},
   "outputs": [
    {
     "name": "stdout",
     "output_type": "stream",
     "text": [
      "Using Pendulum environment\n",
      "Using a batch size of 128 episodes\n",
      "\n",
      "Model trainable paramaters:\n",
      "HJB_net.0.weight , shape: [32, 3]\n",
      "HJB_net.0.bias , shape: [32]\n",
      "HJB_net.2.weight , shape: [32, 32]\n",
      "HJB_net.2.bias , shape: [32]\n",
      "HJB_net.4.weight , shape: [1, 32]\n",
      "HJB_net.4.bias , shape: [1]\n",
      "\n",
      "\n"
     ]
    }
   ],
   "source": [
    "cfg = Config()\n",
    "model = DeepFBSDE(cfg)"
   ]
  },
  {
   "cell_type": "code",
   "execution_count": 9,
   "id": "f2401866",
   "metadata": {},
   "outputs": [
    {
     "name": "stderr",
     "output_type": "stream",
     "text": [
      "  0%|          | 0/800 [00:00<?, ?it/s]"
     ]
    },
    {
     "name": "stdout",
     "output_type": "stream",
     "text": [
      "Using a fixed learning rate of: 0.001\n"
     ]
    },
    {
     "name": "stderr",
     "output_type": "stream",
     "text": [
      "100%|██████████| 800/800 [25:27<00:00,  1.91s/it, NN loss=0.509, Avg. cost=289, time/iter=1.66]      \n"
     ]
    }
   ],
   "source": [
    "model.train_loop(n_epoch=800, init_lr_value=1e-3, fixed_lr=True, l2_reg=0.0)"
   ]
  },
  {
   "cell_type": "code",
   "execution_count": 32,
   "id": "2c54d72e",
   "metadata": {},
   "outputs": [
    {
     "data": {
      "image/png": "[encoded data removed]",
      "text/plain": [
       "<Figure size 576x432 with 1 Axes>"
      ]
     },
     "metadata": {
      "needs_background": "light"
     },
     "output_type": "display_data"
    }
   ],
   "source": [
    "\"\"\" plot the history of loss and cost \"\"\"\n",
    "fig = plt.figure(figsize=(8, 6))\n",
    "ax = fig.add_subplot(111)\n",
    "ax.plot(model.loss_history, label='$loss$')\n",
    "ax.plot(model.cost_history, label='$cost$')\n",
    "ax.set_xlabel('# epochs', fontsize=14)\n",
    "ax.set_yscale('log')\n",
    "plt.legend(fontsize=14)\n",
    "plt.show()\n",
    "\n",
    "\"\"\" save model for future use \"\"\"\n",
    "torch.save(model.Vnet.state_dict(), './saved-models/pendulum-model.chk')"
   ]
  },
  {
   "cell_type": "markdown",
   "id": "6a2fb654",
   "metadata": {},
   "source": [
    "---\n",
    "## Model Testing and Results"
   ]
  },
  {
   "cell_type": "code",
   "execution_count": 33,
   "id": "3c8b2403",
   "metadata": {},
   "outputs": [
    {
     "data": {
      "image/png": "[encoded data removed]",
      "text/plain": [
       "<Figure size 1152x432 with 2 Axes>"
      ]
     },
     "metadata": {
      "needs_background": "light"
     },
     "output_type": "display_data"
    }
   ],
   "source": [
    "\"\"\" testing the model on a batch of test episodes \"\"\"\n",
    "n_episode = 128\n",
    "t_pred, X_pred, v_pred, u_pred, loss, cost = model.predict(n_episode=n_episode)\n",
    "\n",
    "\"\"\" plot the average pendulum angular position and velocity for the test episodes\n",
    "as well as 95% confidence intervals \"\"\"\n",
    "theta_avg = X_pred[...,0].mean(axis=0)\n",
    "theta_std = X_pred[...,0].std(axis=0)\n",
    "thdot_avg = X_pred[...,1].mean(axis=0)\n",
    "thdot_std = X_pred[...,1].std(axis=0)\n",
    "\n",
    "fig = plt.figure(figsize=(16, 6))\n",
    "ax0 = fig.add_subplot(121)\n",
    "ax0.plot(t_pred[0,:], theta_avg, 'b-', linewidth=3, label='mean position')\n",
    "ax0.fill_between(t_pred[0,:], theta_avg-1.96*theta_std, theta_avg+1.96*theta_std, facecolor='blue', alpha=0.3)\n",
    "ax0.set_title('Angular Position', fontsize=18)\n",
    "ax0.set_xlabel('$t$', fontsize=14)\n",
    "ax0.set_ylabel('$\\Theta$', fontsize=14)\n",
    "plt.legend(loc='lower right', fontsize=14)\n",
    "plt.grid('major')\n",
    "\n",
    "ax1 = fig.add_subplot(122)\n",
    "ax1.plot(t_pred[0,:], thdot_avg, 'r-', linewidth=3, label='mean velocity')\n",
    "ax1.fill_between(t_pred[0,:], thdot_avg-1.96*thdot_std, thdot_avg+1.96*thdot_std, facecolor='orange', alpha=0.3)\n",
    "ax1.set_title('Angular Velocity', fontsize=18)\n",
    "ax1.set_xlabel('$t$', fontsize=14)\n",
    "ax1.set_ylabel('$\\dot{\\Theta}$', fontsize=14)\n",
    "plt.legend(loc='upper right', fontsize=14)\n",
    "plt.grid('major')\n",
    "plt.show()"
   ]
  },
  {
   "cell_type": "code",
   "execution_count": 34,
   "id": "c7406bd3",
   "metadata": {},
   "outputs": [
    {
     "data": {
      "image/png": "[encoded data removed]",
      "text/plain": [
       "<Figure size 576x432 with 1 Axes>"
      ]
     },
     "metadata": {
      "needs_background": "light"
     },
     "output_type": "display_data"
    }
   ],
   "source": [
    "\"\"\" plot the average optimal control for the test episodes\n",
    "as well as 95% confidence intervals \"\"\"\n",
    "u_avg = u_pred.mean(axis=0)\n",
    "u_std = u_pred.std(axis=0)\n",
    "\n",
    "fig = plt.figure(figsize=(8, 6))\n",
    "ax = fig.add_subplot(111)\n",
    "ax.plot(t_pred[0,:-1], u_avg, 'k-', linewidth=3, label='mean optimal control')\n",
    "ax.fill_between(t_pred[0,:-1], u_avg-1.96*u_std, u_avg+1.96*u_std, facecolor='purple', alpha=0.3)\n",
    "ax.set_title('Optimal Control', fontsize=18)\n",
    "ax.set_xlabel('$t$', fontsize=14)\n",
    "ax.set_ylabel('$u$', fontsize=14)\n",
    "plt.legend(loc='upper right', fontsize=14)\n",
    "plt.grid('major')\n",
    "plt.show()"
   ]
  },
  {
   "cell_type": "markdown",
   "id": "b1a10e11",
   "metadata": {},
   "source": [
    "### Online inference using OpenAI gym environment\n",
    "Trained model can be used for **online inference**. Here, we load the `StochPendulum-v0` gym environment to emulate the process. It generates the observations for each state (pendulum position and velocity), takes the action (optimal control) from the model and generates next state and reward. This will repeat for a certain period of time or until it reaches the end of the episode."
   ]
  },
  {
   "cell_type": "code",
   "execution_count": 31,
   "id": "98b63214",
   "metadata": {},
   "outputs": [
    {
     "name": "stdout",
     "output_type": "stream",
     "text": [
      "Episode finished after 10.000 seconds with cost = 328.662\n"
     ]
    }
   ],
   "source": [
    "\"\"\" load the pre-trained model \"\"\"\n",
    "model.Vnet.load_state_dict(torch.load('./saved-models/pendulum-model.chk', map_location=model.device))\n",
    "model.Vnet.eval()\n",
    "\n",
    "dt = cfg.T_terminal / cfg.n_timestep\n",
    "sigma = cfg.sigma[1]\n",
    "kwargs = {'sigma': sigma, 'dt': dt}\n",
    "# eval_env = wrap_env(gym.make('StochPendulum-v0', **kwargs))        # wrapper to create a video and save to disk\n",
    "eval_env = gym.make('StochPendulum-v0', **kwargs)\n",
    "\n",
    "t = 0\n",
    "episodic_reward = 0\n",
    "\"\"\" get the state from the gym env and reshape it before giving to the model \"\"\"\n",
    "prev_state = eval_env.reset()\n",
    "torch_t = torch.Tensor( np.array( [[t]] ) ).to(cfg.device)\n",
    "prev_state = np.array( [[prev_state[0], prev_state[1]]] )\n",
    "torch_prev_state = torch.Tensor(prev_state).requires_grad_(True).to(cfg.device)\n",
    "_, z = model.net_v_z(torch_t, torch_prev_state)   # model prediction on V_x\n",
    "\n",
    "for n in range(cfg.n_timestep):\n",
    "    eval_env.render()\n",
    "    action = model.env.optimal_control(z)         # compute the optimal control\n",
    "    \"\"\" give action to the gym env and recieve the new state as well as the reward \"\"\"\n",
    "    state, reward, done, info = eval_env.step(action.detach().numpy()[0])\n",
    "    episodic_reward += -reward                    # reward = -cost\n",
    "    t += dt\n",
    "    prev_state = np.array( [[state[0], state[1]]] )\n",
    "    if done:\n",
    "        print(f'Episode finished after {t:.3f} seconds with cost = {episodic_reward:.3f}')\n",
    "        break\n",
    "    torch_t = torch.Tensor(np.array( [[t]] )).to(cfg.device)\n",
    "    torch_prev_state = torch.Tensor(prev_state).requires_grad_(True).to(cfg.device)\n",
    "    _, z = model.net_v_z(torch_t, torch_prev_state)\n",
    "eval_env.close()\n",
    "# show_video('path_to_file')                       # use this method if the video is saved to disk"
   ]
  },
  {
   "cell_type": "code",
   "execution_count": null,
   "id": "a13bbdaf",
   "metadata": {},
   "outputs": [],
   "source": []
  }
 ],
 "metadata": {
  "kernelspec": {
   "display_name": "Python 3",
   "language": "python",
   "name": "python3"
  },
  "language_info": {
   "codemirror_mode": {
    "name": "ipython",
    "version": 3
   },
   "file_extension": ".py",
   "mimetype": "text/x-python",
   "name": "python",
   "nbconvert_exporter": "python",
   "pygments_lexer": "ipython3",
   "version": "3.7.10"
  }
 },
 "nbformat": 4,
 "nbformat_minor": 5
}
