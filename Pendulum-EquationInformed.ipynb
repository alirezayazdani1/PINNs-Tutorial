{
 "cells": [
  {
   "cell_type": "markdown",
   "id": "satisfied-minutes",
   "metadata": {},
   "source": [
    "#  Stochastic Optimal Control Tutorial\n",
    "## Introduction: Hamilton-Jacobi-Bellman Equation\n",
    "In optimal control theory, the Hamilton–Jacobi–Bellman (HJB) equation gives a necessary and sufficient condition for optimality of a control with respect to a loss function. It is, in general, a nonlinear partial differential equation in the **value function** $V$, which means its solution is the value function itself. Once this solution is known, it can be used to obtain the **optimal control** $u$ by taking the maximizer (or minimizer) of the Hamiltonian involved in the HJB equation. \n",
    "\n",
    "A **stochastic optimal control** (SOC) problem is defined by minimizing the expected cost functional (or maximizing a gain function) $J$ as the following\n",
    "$$\n",
    "V(t,x) := \\inf_{u \\in \\mathcal{U}[0,T]} J(u) = \\inf_{u \\in \\mathcal{U}[0,T]} \\mathbb{E} \\left[ \\int_0^T f(x(t),u(t)) \\ \\mathrm{d}t +  g(x(T)) \\right],\n",
    "$$\n",
    "where $V(t,x):=\\inf_{u \\in \\mathcal{U}[0,T]} J(u)$ is the value function, $x$ and $u$ are the state and control variables, respectively, $f$ is the running cost and $g$ is the terminal cost functions and $\\mathcal{U}$ is the set of all admissible controls. The state variables $x$ are the solutions of the controlled drift-diffusion stochastic process given the initial conditions $x(0) = \\xi$\n",
    "$$\n",
    "\\mathrm{d}x(t) = b(x(t), u(t)) \\mathrm{d}t + \\Sigma(x(t), u(t)) \\mathrm{d}W(t), \\quad x(0) = \\xi,\n",
    "$$\n",
    "where $b$ is a nonlinear vector-valued drift function, $\\Sigma$ is the diffusion matrix and $W$ is a vector of mutually independent Brownian motions. Using the definition of value function and from Bellman's [Principal of Optimality](https://en.wikipedia.org/wiki/Bellman_equation), the HJB equation can be derived as a nonlinear partial differential equation (PDE) for $V$ as\n",
    "$$\n",
    "V_t + \\inf_{u \\in \\mathcal{U}[0,T]} \\mathcal{H}(x, u, V_x, V_{xx}) = 0, \\\\ \n",
    "V(T,x) = g(x),\n",
    "$$\n",
    "where $\\mathcal{H}$ is known as the **Hamiltonian** and is written as\n",
    "$$\n",
    "\\mathcal{H}(x, u, V_x, V_{xx}) \\triangleq \\frac{1}{2} \\mathrm{Tr} (V_{xx}\\Sigma \\Sigma^T) + V_x^T b(x,u) + f(x,u),\n",
    "$$\n",
    "where `Tr` is the matrix trace operator and `T` is the transpose.\n",
    "\n",
    "## Equation-informed Deep Learning of SOC\n",
    "\n",
    "Given that a solution $u^{\\ast}$ (known as the optimal control) to the minimization of $\\mathcal{H}$ exists, the unique solution of the HJB equation corresponds by virtue of the nonlinear **Feynman-Kac lemma** to the system of forward-backward stochastic differential equations (FBSDE) as the following\n",
    "$$\n",
    "x(t) = \\xi + \\int_0^T b(x(t), u^{\\ast}(t)) \\ \\mathrm{d}t + \\int_0^T \\Sigma(x(t), u^{\\ast}(t)) \\ \\mathrm{d}W_t, \\quad \\mathrm{forward} \\\\\n",
    "V(t, x(t)) = g(x(T)) + \\int_t^T f(x(t), u^{\\ast}(t)) \\ \\mathrm{d}t - \\int_t^T V^T(t, x(t)) \\Sigma(x(t), u^{\\ast}(t)) \\ \\mathrm{d}W_t, \\quad \\mathrm{backward} \\\\\n",
    "u^{\\ast}(t) = \\underset{u}{\\mathrm{argmin}} \\ \\mathcal{H}\\left( x(t), u, V_x(t,x(t)), V_{xx}(t,x(t) \\right).\n",
    "$$\n",
    "Here, $V(t, x(t))$ is the evolution of value function along a path of $x(t)$ thus, $V(t, x(t))$ is a stochastic process (similarly for $V_x$ and $V_{xx}$). While $x(t)$ evolves forward in time due to its initial condition $\\xi$, $V(t, x(t))$ evolves backward in time due to its terminal condition $g(x(T))$. As a result, solving such a coupled system is not straight-forward.\n",
    "\n",
    "One may use an *iterative* way to address such problem i.e., first, solve for $V(t, x(t))$ starting from an initial condition guess $V(0, x(t))$. Then, compare its terminal value $V(T, x(T))$ to the terminal condition, and adjust the initial condition accordingly such that the terminal condition is approximately satisfied. This fits easily into the deep learning framework as neural networks can approximate any function such as $V(t, x(t))$ in this case. Furthermore, any adjustment to the initial guess for $V$ can be achieved by minimizing a proper `loss` function. A generic algorithm to solve the FBSDE problem using equation-informed deep learning is given below.\n",
    "\n",
    "<img src=\"./figures/DeepFBSDE-generic.PNG\" alt=\"drawing\" width=\"500\"/>\n",
    "\n",
    "---"
   ]
  },
  {
   "cell_type": "markdown",
   "id": "typical-warner",
   "metadata": {},
   "source": [
    "## Inverted Pendulum Problem\n",
    "\n",
    "In this tutorial, we aim to solve the classic Inverted Pendulum control problem by solving the FBSDE equations. The goal is to apply torque (i.e., the control) such that the pendulum stays in the upright position. This problem can be solved using conventional policy gradient methods such as deep deterministic policy gradient (DDPG). A solution of this control problem using DDPG algorithm in [OpenAIGym](http://gym.openai.com/envs/Pendulum-v0/) environment is provided in this [notebook](). Note that the gym environment provides deterministic observations for the pendulum problem. To make the problem stochastic, we have added noise to pendulum velocity in a new gym environment `gym_StochPendulum` that must be installed first. Furthermore, to render and view the pundulum swing as a video a few packages must be installed and a utility function to show the video is provided for that purpose."
   ]
  },
  {
   "cell_type": "code",
   "execution_count": 2,
   "id": "chronic-company",
   "metadata": {},
   "outputs": [],
   "source": [
    "# !pip install gym > /dev/null 2>&1\n",
    "# !pip install -e gym-StochPendulum > /dev/null 2>&1\n",
    "# !pip install pyvirtualdisplay > /dev/null 2>&1\n",
    "# !apt-get install -y xvfb python-opengl ffmpeg > /dev/null 2>&1"
   ]
  },
  {
   "cell_type": "code",
   "execution_count": 1,
   "id": "civil-lyric",
   "metadata": {},
   "outputs": [],
   "source": [
    "import numpy as np\n",
    "import numpy.random as npr\n",
    "\n",
    "import torch\n",
    "from torch import nn\n",
    "import torch.nn.functional as F\n",
    "import torch.optim as optim\n",
    "from torch.optim.lr_scheduler import ReduceLROnPlateau\n",
    "from torch import autograd\n",
    "\n",
    "from time import time\n",
    "\n",
    "import gym\n",
    "import gym_StochPendulum\n",
    "from gym import logger as gymlogger\n",
    "from gym.wrappers import Monitor\n",
    "gymlogger.set_level(40) #error only\n",
    "\n",
    "import matplotlib\n",
    "import matplotlib.pyplot as plt\n",
    "%matplotlib inline\n",
    "import math\n",
    "\n",
    "import glob\n",
    "import io\n",
    "import base64\n",
    "from IPython.display import HTML\n",
    "from IPython import display as ipythondisplay\n",
    "from pyvirtualdisplay import Display\n",
    "# from xvfbwrapper import Xvfb\n",
    "\n",
    "# display = Display(visible=0, size=(1400, 900)).start()   # enable this to embed the video in the notebook and play using \"show_video\"\n",
    "\n",
    "\"\"\"\n",
    "Utility functions to enable video recording of gym environment and displaying it\n",
    "To enable video, run \"env = wrap_env(env)\"\"\n",
    "\"\"\"\n",
    "def show_video():\n",
    "    mp4list = glob.glob('./video/*.mp4')\n",
    "    if len(mp4list) > 0:\n",
    "        mp4 = mp4list[0]\n",
    "        video = io.open(mp4, 'r+b').read()\n",
    "        encoded = base64.b64encode(video)\n",
    "        ipythondisplay.display(HTML(data='''<video alt=\"test\" autoplay loop controls style=\"height: 400px;\">\n",
    "                <source src=\"data:video/mp4;base64,{0}\" type=\"video/mp4\" /> </video>'''.format(encoded.decode('ascii'))))\n",
    "    else: \n",
    "        print(\"Could not find video\")\n",
    "\n",
    "def wrap_env(env):\n",
    "    env = Monitor(env, './video', force=True)\n",
    "    return env"
   ]
  },
  {
   "cell_type": "markdown",
   "id": "protecting-oriental",
   "metadata": {},
   "source": [
    "## Problem Setup\n",
    "\n",
    "The state of the pendulum at any time can be dexcribed by $x=(\\theta, \\dot{\\theta})$, where $\\theta$ is radial position and $\\dot{\\theta}$ is radial velocity of pendulum. Integrating the equations of motion for pendulum, we obtain the state of the pendulum $x(t)$ at any time\n",
    "$$\n",
    "\\theta_{n+1} = \\theta_n + \\dot{\\theta}_n \\Delta t, \\\\\n",
    "\\dot{\\theta}_{n+1} = \\dot{\\theta}_n + \\left(\\frac{u}{I} - \\frac{b}{I} \\dot{\\theta}_n - \\frac{g}{l} \\mathrm{sin}(\\theta_n)\\right) \\Delta t + \\sigma \\Delta W_n,\n",
    "$$\n",
    "where `l` is pendulum arm length, $I=ml^2$ is pendulum inertia with `m` as its mass, $g=10$ is the gravitational acceleration, `b` is pendulum damping coefficient, `u` is the applied torque or the control to swing the pundulum, $\\sigma$ is the level of noise added to pendulum velocity and $\\Delta W_n=\\sqrt{\\Delta t} \\mathcal{N}(0,1)$ is the Brownian noise increment. These paramaters are set in the `Config` class. In addition, same parameters are used in `gym_StochPendulum` environment so we can validate the model predictions after training the neural network. Note that to prevent unrealistically high values, the torque and pendulum velocity are clipped above a certain threshold.\n",
    "\n",
    "There are two types of costs, namely, the control cost in the form of $0.5 R u^2$ and the state cost as $0.5 Q (x-x^{target})^2$. The algorithm tries to minimize their sum through the swing process. Here, `R` and `Q` are cost function parameters, and the target state $x^{target} = (\\pi, 0)$ is the state in which the controller wants the pendulum to be (i.e., upright position at $\\theta=\\pi$ and zero radial velocity).\n",
    "\n",
    "In addition to the running cost, there is a terminal cost at the end of each episode that should be accounted for. The terminal cost is computed similar to the state cost at terminal time i.e., $0.5 Q \\left(x(T)-x^{target}\\right)^2$.\n",
    "\n",
    "### Optimal control\n",
    "The quadratic costs lead to a linear quadratic Hamiltonanian for which the minimizer i.e., the optimal control $u^{\\ast}$ can be analytically derived. To find the optimal control, we take the gradient of hamiltonian with respect to `u` and set it to zero i.e., $\\partial \\mathcal{H} / \\partial u = 0$. This equation can be solved analytically to obtain optimal control\n",
    "$$\n",
    "u^{\\ast}(t, x(t)) = -\\frac{1}{R} G^T V_x(t, x(t))\n",
    "$$\n",
    "where `G` represents the control dynamics (is known) and $V_x$ is the gradient of the value function."
   ]
  },
  {
   "cell_type": "code",
   "execution_count": 7,
   "id": "blond-fruit",
   "metadata": {},
   "outputs": [],
   "source": [
    "class Config(object):\n",
    "    \"\"\" neural network and optimizer-related parameters \"\"\"\n",
    "    batch_size = 256\n",
    "    logging_frequency_valid = 10\n",
    "    clip_norm = True                # whether clip the gradient of the loss function\n",
    "    max_gradient_norm = 1.\n",
    "    random_seed = 1234\n",
    "    n_hidden = 32                   # number of hidden neurons\n",
    "    verbose = True\n",
    "    \n",
    "    \"\"\" number of steps and terminal time \"\"\"\n",
    "    n_state = 2\n",
    "    T_terminal = 10.\n",
    "    n_timestep = 200\n",
    "    \"\"\" pendulum parameters \"\"\"\n",
    "    max_speed = 8.\n",
    "    max_torque = 10.\n",
    "    g = 10.\n",
    "    m = 2.\n",
    "    l = 0.5\n",
    "    b = 0.1\n",
    "    I = m * l**2\n",
    "    sigma = [0., 1.]\n",
    "    R = 0.1\n",
    "    Q = [4., 0.05]\n",
    "    G = [0., 1./I]\n",
    "    target = [np.pi, 0.]\n",
    "    init_state = [0., 0.]\n",
    "    \n",
    "    use_gpu = False\n",
    "    if use_gpu:\n",
    "        device = 'cuda:0'\n",
    "    else:\n",
    "        device = 'cpu'"
   ]
  },
  {
   "cell_type": "code",
   "execution_count": 3,
   "id": "further-shooting",
   "metadata": {},
   "outputs": [],
   "source": [
    "\"\"\" Setup a feed-forward neural network by subclassing using PyTorch framework \"\"\"\n",
    "class HJBNet(nn.Module):\n",
    "    def __init__(self, n_in: int, n_out: int, n_hidden: int=256):\n",
    "        super().__init__()\n",
    "        \"\"\" contains 3 layers with softplus activation \"\"\"\n",
    "        self.HJB_net = nn.Sequential(\n",
    "            nn.Linear(n_in, n_hidden),\n",
    "            nn.Softplus(),\n",
    "            nn.Linear(n_hidden, n_hidden),\n",
    "            nn.Softplus(),\n",
    "            nn.Linear(n_hidden, n_out)\n",
    "        )\n",
    "        \n",
    "    def forward(self, t, x):\n",
    "        z = torch.cat((t, x), dim=-1)\n",
    "        return self.HJB_net(z)"
   ]
  },
  {
   "cell_type": "code",
   "execution_count": 4,
   "id": "express-roads",
   "metadata": {},
   "outputs": [],
   "source": [
    "\"\"\" Create an environment class for pendulum with the necessary methods to \n",
    "compute the quantities of interest such as the costs and also integrate the FBSDE equations \"\"\"\n",
    "class PendulumEnv():\n",
    "    def __init__(self, cfg):\n",
    "        self.g = cfg.g                    # gravitational acceleration\n",
    "        self.m = cfg.m                    # pendulum mass\n",
    "        self.l = cfg.l                    # pendulum arm length\n",
    "        self.b = cfg.b                    # pendulum damping coefficient\n",
    "        self.I = cfg.I                    # pendulum inertia\n",
    "        self.max_speed = cfg.max_speed    # maximum pendulum speed\n",
    "        self.max_torque = cfg.max_torque  # maximum applied torque (control)\n",
    "        \n",
    "        self.device = cfg.device\n",
    "        \n",
    "        self.sigma = torch.Tensor( np.diag(cfg.sigma) ).to(self.device)         # Gaussian noise added to pendulum velocity\n",
    "        self.R = torch.Tensor( np.array([[cfg.R]]) ).to(self.device)            # control cost parameter\n",
    "        self.Q = torch.Tensor( np.array([cfg.Q]) ).to(self.device)              # state cost parameter\n",
    "        self.target = torch.Tensor( np.array([cfg.target]) ).to(self.device)    # target state to achieve\n",
    "        self.G = torch.Tensor( np.array([cfg.G]) ).to(self.device)              # controller dynamics parameter\n",
    "    \n",
    "    \"\"\" running cost function \"\"\"\n",
    "    def cost(self, x, u): # M x D, M x 1\n",
    "        batch_size = x.shape[0]\n",
    "        Q = self.Q.repeat(batch_size, 1) # M x D\n",
    "        target = self.target.repeat(batch_size, 1)\n",
    "        R = self.R.repeat(batch_size, 1)\n",
    "\n",
    "        state_cost = 0.5 * (Q*(x-target)**2).sum(dim=1, keepdim=True)\n",
    "        control_cost = 0.5 * R * u**2\n",
    "        return state_cost + control_cost # M x 1\n",
    "    \n",
    "    \"\"\" terminal cost function \"\"\"\n",
    "    def terminal_cost(self, x): # M x D\n",
    "        batch_size = x.shape[0]\n",
    "        Q = self.Q.repeat(batch_size, 1)\n",
    "        target = self.target.repeat(batch_size, 1)\n",
    "        return 0.5 * (Q*(x-target)**2).sum(dim=1, keepdim=True) # M x 1\n",
    "    \n",
    "    \"\"\" gradient of terminal loss with respect to state x, which is analytically derived \"\"\"\n",
    "    def grad_terminal_cost(self, x): # M x D\n",
    "        batch_size = x.shape[0]\n",
    "        Q = self.Q.repeat(batch_size, 1)\n",
    "        target = self.target.repeat(batch_size, 1)\n",
    "        return Q * (x-target) # M x D\n",
    "    \n",
    "    \"\"\" drift term \"\"\"\n",
    "    def b_(self, x, u): # M x D, M x 1\n",
    "        F = (-self.b/self.I)*x[:,1:2] - (self.g/self.l)*torch.sin(x[:,0:1])\n",
    "        b0 = x[:,1:2].clone()\n",
    "        b1 = F + u/self.I\n",
    "        return torch.cat((b0, b1), dim=-1) # M x D\n",
    "        \n",
    "    \"\"\" standard deviation of the noise \"\"\"\n",
    "    def sigma_(self, batch_size):\n",
    "        sigma_l = batch_size * [self.sigma]\n",
    "        return torch.stack(sigma_l, dim=0) # M x D x D\n",
    "    \n",
    "    \"\"\" function to compute the optimal control from the analytic equation \"\"\"\n",
    "    def optimal_control(self, v_x): # M x D\n",
    "        batch_size = v_x.shape[0]\n",
    "        R = self.R.repeat(batch_size, 1) # M x 1\n",
    "        G = self.G.repeat(batch_size, 1) # M x D\n",
    "        return -torch.div(1., R) * (G*v_x).sum(dim=1, keepdim=True) # M x 1\n",
    "    \n",
    "    def step(self, dt, dW, x, v, v_x): # M x 1, M x D, M x D, M x 1, M x D\n",
    "        batch_size = x.shape[0]\n",
    "        sigma_dW = torch.matmul(self.sigma_(batch_size), dW.unsqueeze(dim=-1)).squeeze(dim=-1)\n",
    "        \n",
    "        u_opt = self.optimal_control(v_x) # M x 1\n",
    "        u_opt = torch.clamp(u_opt, -self.max_torque, self.max_torque)\n",
    "        \n",
    "        h = self.cost(x, u_opt) # M x 1        # running cost\n",
    "        \n",
    "        \"\"\" integrate the sde for state x \"\"\"\n",
    "        def forward_sde():\n",
    "            return x + self.b_(x, u_opt)*dt + sigma_dW\n",
    "        \n",
    "        \"\"\" integrate the sde for the value function \"\"\"\n",
    "        def backward_sde():\n",
    "            return v - h*dt + (v_x*sigma_dW).sum(dim=1, keepdim=True)\n",
    "        return forward_sde(), backward_sde(), h, u_opt"
   ]
  },
  {
   "cell_type": "code",
   "execution_count": 5,
   "id": "tired-singer",
   "metadata": {},
   "outputs": [],
   "source": [
    "\"\"\" Main class for streaming data, neural network training and model inference \"\"\"\n",
    "class DeepFBSDE():\n",
    "    def __init__(self, cfg):\n",
    "        self.cfg = cfg\n",
    "        torch.manual_seed(self.cfg.random_seed)\n",
    "        npr.seed(self.cfg.random_seed)\n",
    "        self.cost_history = []                  # cost function is computed at every timestep;good controller must achieve smaller cost for the episode\n",
    "        self.loss_history = []                  # the minimization is directly applied to the loss function\n",
    "        \n",
    "        self.T = self.cfg.T_terminal\n",
    "        self.M = self.cfg.batch_size\n",
    "        self.N = self.cfg.n_timestep\n",
    "        self.D = self.cfg.n_state\n",
    "        \n",
    "        self.max_speed = self.cfg.max_speed\n",
    "        self.max_torque = self.cfg.max_torque\n",
    "        self.g = self.cfg.g\n",
    "        self.m = self.cfg.m\n",
    "        self.l = self.cfg.l\n",
    "        self.init_state = self.cfg.init_state\n",
    "        \n",
    "        self.device = torch.device(self.cfg.device)\n",
    "        \n",
    "        print('Using Pendulum environment')\n",
    "        self.env = PendulumEnv(self.cfg)\n",
    "        \n",
    "        print(f'Using a batch size of {self.M} episodes')\n",
    "        self.Vnet = HJBNet(n_in=self.D+1, n_out=1, n_hidden=self.cfg.n_hidden).to(self.device)\n",
    "        \n",
    "        print('\\nModel trainable paramaters:')\n",
    "        for name, param in self.Vnet.named_parameters():\n",
    "            if param.requires_grad:\n",
    "                print(name, ', shape:', list(param.shape))\n",
    "        print('\\n')\n",
    "    \n",
    "    \"\"\" reset at the beginning of each episode by setting the state initial conditions \"\"\"\n",
    "    def reset(self, batch_size):\n",
    "        high = np.repeat(np.array([self.init_state]), batch_size, axis=0)\n",
    "        Xi = npr.uniform(low=-high, high=high)\n",
    "        return Xi            # x(0)\n",
    "\n",
    "    \"\"\" the neural network takes the state as input and outputs value function\n",
    "    using PyTorch autograd the gradient of value function is also computed \"\"\"\n",
    "    def net_v_z(self, t, x): # M x 1, M x D\n",
    "        v = self.Vnet(t, x)  # M x 1\n",
    "        z = autograd.grad(outputs=v, inputs=x, grad_outputs=torch.ones_like(v), create_graph=True)[0] # M x D\n",
    "        return v, z          # V and V_x\n",
    "        \n",
    "    \"\"\" to compute the loss, the system of FBSDE for the state and value function must be integrated forward\n",
    "    in time up to the terminal time at which point we are able to compute the loss \"\"\"\n",
    "    def loss_function(self, t, Xi, W):\n",
    "        cost_tot = 0\n",
    "        X_list = []\n",
    "        Y_list = []\n",
    "        U_list = []\n",
    "        \n",
    "        t0 = t[:,0,:] # M x 1\n",
    "        W0 = W[:,0,:] # M x D\n",
    "        X0 = Xi       # M x D\n",
    "        Y0, Z0 = self.net_v_z(t0, X0) # output: M x 1, M x D\n",
    "        \n",
    "        X_list.append(X0)             # keep track of states through the episode\n",
    "        Y_list.append(Y0)             # keep track of value function through the episode\n",
    "        \n",
    "        for n in range(0, self.N):\n",
    "            t1 = t[:,n+1,:]\n",
    "            W1 = W[:,n+1,:]\n",
    "            dt = t1 - t0\n",
    "            dW = W1 - W0\n",
    "            \n",
    "            X1, Y1, cost, U_opt = self.env.step(dt, dW, X0, Y0, Z0)\n",
    "            \n",
    "            _, Z1 = self.net_v_z(t1, X1)\n",
    "\n",
    "            t0 = t1\n",
    "            W0 = W1\n",
    "            X0 = X1\n",
    "            Y0 = Y1\n",
    "            Z0 = Z1\n",
    "            \n",
    "            cost_tot += cost.mean()   # keep track of the cost through the episode\n",
    "            X_list.append(X0)\n",
    "            Y_list.append(Y0)\n",
    "            U_list.append(U_opt)      # keep track of the optimal control through the episode\n",
    "            \n",
    "        \"\"\" compute the loss at the end of the episode by comparing with target V and V_x \"\"\"\n",
    "        loss = F.mse_loss(input=Y1, target=self.env.terminal_cost(X1.detach())) + \\\n",
    "               F.mse_loss(input=Z1, target=self.env.grad_terminal_cost(X1.detach()))\n",
    "\n",
    "        X = torch.stack(X_list, dim=1).squeeze()\n",
    "        Y = torch.stack(Y_list, dim=1).squeeze()\n",
    "        U = torch.stack(U_list, dim=1).squeeze()\n",
    "        return loss, cost_tot, X, Y, U\n",
    "        \n",
    "    \"\"\" prepare input training data as a batch of episodes of size M and duration T \"\"\"\n",
    "    def fetch_batch(self, batch_size):    \n",
    "        T = self.T\n",
    "        M = batch_size\n",
    "        N = self.N\n",
    "        D = self.D\n",
    "        \n",
    "        Dt = np.zeros((M, N+1, 1))\n",
    "        DW = np.zeros((M, N+1, D))\n",
    "        Xi = self.reset(batch_size)\n",
    "        \n",
    "        dt = T / N\n",
    "        Dt[:,1:,:] = dt\n",
    "        DW[:,1:,:] = np.sqrt(dt) * npr.normal(size=(M, N, D))\n",
    "        \n",
    "        \"\"\" compute timestep size and Brownian increments that are needed for solving system of FBSDE \"\"\"\n",
    "        t = np.cumsum(Dt, axis=1) # M x (N+1) x 1\n",
    "        W = np.cumsum(DW, axis=1) # M x (N+1) x D\n",
    "        \n",
    "        t_batch = torch.as_tensor(t, dtype=torch.float, device=self.device).requires_grad_(True)\n",
    "        Xi_batch = torch.as_tensor(Xi, dtype=torch.float, device=self.device).requires_grad_(True)\n",
    "        W_batch = torch.as_tensor(W, dtype=torch.float, device=self.device)\n",
    "        return t_batch, Xi_batch, W_batch\n",
    "    \n",
    "    def train_loop(self, n_epoch, init_lr_value, fixed_lr=True, l2_reg=0.):\n",
    "        \"\"\" Adam optimizer with l2 regularization \"\"\"\n",
    "        opt = optim.Adam(params=[{'params': self.Vnet.parameters()}], lr=init_lr_value, weight_decay=l2_reg)\n",
    "        \"\"\" setup the learning rate scheduler \"\"\"\n",
    "        if fixed_lr:\n",
    "            print('Using a fixed learning rate of:', init_lr_value)\n",
    "            lr_sched = ReduceLROnPlateau(opt, 'min', patience=1000, factor=0.9999, verbose=True)\n",
    "        else:\n",
    "            lr_sched = ReduceLROnPlateau(opt, 'min', patience=10, factor=0.75, verbose=True)\n",
    "            \n",
    "        epoch = 0               # each epoch is considered as going through one batch of episodes\n",
    "        while epoch < n_epoch:\n",
    "            iter_start_time = time()\n",
    "            t_batch, Xi_batch, W_batch = self.fetch_batch(batch_size=self.M)          # get the batch of episodes\n",
    "            loss, _, _, _, _ = self.loss_function(t_batch, Xi_batch, W_batch)         # compute MSE for the batch of episodes\n",
    "            opt.zero_grad()\n",
    "            loss.backward(retain_graph=True)          # compute the gradient of loss\n",
    "            if self.cfg.clip_norm:                    # clip the gradients above a threshold\n",
    "                nn.utils.clip_grad_norm_(self.Vnet.parameters(), self.cfg.max_gradient_norm)\n",
    "            opt.step()                                # backprop the grads to update parameters\n",
    "            epoch += 1\n",
    "            \n",
    "            \"\"\" validate every xxx epochs and keep the history of the loss and cost values \"\"\"\n",
    "            if epoch%self.cfg.logging_frequency_valid == 0:\n",
    "                iter_time = time() - iter_start_time\n",
    "                t_batch, Xi_batch, W_batch = self.fetch_batch(batch_size=self.M)\n",
    "                loss, cost, _, _, _ = self.loss_function(t_batch, Xi_batch, W_batch)\n",
    "                lr_sched.step(loss)\n",
    "                self.loss_history.append(loss)\n",
    "                self.cost_history.append(cost)\n",
    "                self.lr = opt.param_groups[0]['lr']\n",
    "                print(f'validation epoch: {epoch}, NN loss: {loss:0.3e}, Avg. cost: {cost:0.3e} ' +\n",
    "                      f'time/iter: {iter_time:0.3e} s')\n",
    "        return\n",
    "    \n",
    "    \"\"\" model prediction for the test episodes \"\"\"\n",
    "    def predict(self, n_episode):\n",
    "        t_test, Xi_test, W_test = self.fetch_batch(batch_size=n_episode)\n",
    "        test_loss, test_cost, X_pred, v_pred, u_pred = self.loss_function(t_test, Xi_test, W_test)\n",
    "        \n",
    "        t_test = t_test.squeeze(dim=-1).cpu().data.numpy()\n",
    "        X_pred = X_pred.cpu().data.numpy()\n",
    "        v_pred = v_pred.cpu().data.numpy()\n",
    "        u_pred = u_pred.cpu().data.numpy()\n",
    "        return t_test, X_pred, v_pred, u_pred, test_loss, test_cost"
   ]
  },
  {
   "cell_type": "code",
   "execution_count": 11,
   "id": "sudden-modeling",
   "metadata": {},
   "outputs": [
    {
     "name": "stdout",
     "output_type": "stream",
     "text": [
      "Using Pendulum environment\n",
      "Using a batch size of 256 episodes\n",
      "\n",
      "Model trainable paramaters:\n",
      "HJB_net.0.weight , shape: [32, 3]\n",
      "HJB_net.0.bias , shape: [32]\n",
      "HJB_net.2.weight , shape: [32, 32]\n",
      "HJB_net.2.bias , shape: [32]\n",
      "HJB_net.4.weight , shape: [1, 32]\n",
      "HJB_net.4.bias , shape: [1]\n",
      "\n",
      "\n"
     ]
    }
   ],
   "source": [
    "cfg = Config()\n",
    "model = DeepFBSDE(cfg)"
   ]
  },
  {
   "cell_type": "code",
   "execution_count": 12,
   "id": "detected-explorer",
   "metadata": {},
   "outputs": [
    {
     "name": "stdout",
     "output_type": "stream",
     "text": [
      "Using a fixed learning rate of: 0.001\n",
      "validation epoch: 10, NN loss: 1.528e+06, Avg. cost: 1.121e+04 time/iter: 2.206e+00 s\n",
      "validation epoch: 20, NN loss: 6.948e+04, Avg. cost: 4.370e+03 time/iter: 2.176e+00 s\n",
      "validation epoch: 30, NN loss: 4.877e+04, Avg. cost: 3.951e+03 time/iter: 2.475e+00 s\n",
      "validation epoch: 40, NN loss: 3.751e+04, Avg. cost: 3.555e+03 time/iter: 2.356e+00 s\n",
      "validation epoch: 50, NN loss: 3.043e+04, Avg. cost: 3.223e+03 time/iter: 2.575e+00 s\n",
      "validation epoch: 60, NN loss: 2.388e+04, Avg. cost: 2.899e+03 time/iter: 2.426e+00 s\n",
      "validation epoch: 70, NN loss: 5.817e+04, Avg. cost: 2.811e+03 time/iter: 2.243e+00 s\n",
      "validation epoch: 80, NN loss: 1.943e+04, Avg. cost: 2.661e+03 time/iter: 2.628e+00 s\n",
      "validation epoch: 90, NN loss: 1.783e+04, Avg. cost: 2.567e+03 time/iter: 2.261e+00 s\n",
      "validation epoch: 100, NN loss: 1.733e+04, Avg. cost: 2.521e+03 time/iter: 2.563e+00 s\n",
      "validation epoch: 110, NN loss: 1.666e+04, Avg. cost: 2.468e+03 time/iter: 2.525e+00 s\n",
      "validation epoch: 120, NN loss: 1.721e+04, Avg. cost: 2.450e+03 time/iter: 2.456e+00 s\n",
      "validation epoch: 130, NN loss: 1.954e+04, Avg. cost: 2.410e+03 time/iter: 2.563e+00 s\n",
      "validation epoch: 140, NN loss: 1.685e+04, Avg. cost: 2.483e+03 time/iter: 2.465e+00 s\n",
      "validation epoch: 150, NN loss: 4.386e+04, Avg. cost: 2.534e+03 time/iter: 2.248e+00 s\n",
      "validation epoch: 160, NN loss: 1.709e+04, Avg. cost: 2.358e+03 time/iter: 2.543e+00 s\n",
      "validation epoch: 170, NN loss: 1.582e+04, Avg. cost: 2.357e+03 time/iter: 2.528e+00 s\n",
      "validation epoch: 180, NN loss: 5.591e+04, Avg. cost: 2.493e+03 time/iter: 2.518e+00 s\n",
      "validation epoch: 190, NN loss: 1.529e+04, Avg. cost: 2.336e+03 time/iter: 2.484e+00 s\n",
      "validation epoch: 200, NN loss: 1.536e+04, Avg. cost: 2.387e+03 time/iter: 2.661e+00 s\n",
      "validation epoch: 210, NN loss: 3.069e+04, Avg. cost: 2.419e+03 time/iter: 2.450e+00 s\n",
      "validation epoch: 220, NN loss: 1.503e+04, Avg. cost: 2.366e+03 time/iter: 2.194e+00 s\n",
      "validation epoch: 230, NN loss: 1.500e+04, Avg. cost: 2.361e+03 time/iter: 2.504e+00 s\n",
      "validation epoch: 240, NN loss: 8.734e+04, Avg. cost: 2.633e+03 time/iter: 2.352e+00 s\n",
      "validation epoch: 250, NN loss: 1.463e+04, Avg. cost: 2.334e+03 time/iter: 2.331e+00 s\n",
      "validation epoch: 260, NN loss: 2.554e+04, Avg. cost: 2.432e+03 time/iter: 2.351e+00 s\n",
      "validation epoch: 270, NN loss: 2.399e+04, Avg. cost: 2.379e+03 time/iter: 2.754e+00 s\n",
      "validation epoch: 280, NN loss: 1.391e+04, Avg. cost: 2.282e+03 time/iter: 2.624e+00 s\n",
      "validation epoch: 290, NN loss: 1.461e+04, Avg. cost: 2.274e+03 time/iter: 2.701e+00 s\n",
      "validation epoch: 300, NN loss: 1.334e+04, Avg. cost: 2.250e+03 time/iter: 2.481e+00 s\n",
      "validation epoch: 310, NN loss: 1.748e+04, Avg. cost: 2.323e+03 time/iter: 2.293e+00 s\n",
      "validation epoch: 320, NN loss: 1.406e+04, Avg. cost: 2.312e+03 time/iter: 2.862e+00 s\n",
      "validation epoch: 330, NN loss: 1.469e+04, Avg. cost: 2.232e+03 time/iter: 2.646e+00 s\n",
      "validation epoch: 340, NN loss: 1.338e+04, Avg. cost: 2.211e+03 time/iter: 2.329e+00 s\n",
      "validation epoch: 350, NN loss: 1.352e+04, Avg. cost: 2.213e+03 time/iter: 2.368e+00 s\n",
      "validation epoch: 360, NN loss: 1.346e+04, Avg. cost: 2.186e+03 time/iter: 2.246e+00 s\n",
      "validation epoch: 370, NN loss: 1.213e+04, Avg. cost: 2.154e+03 time/iter: 2.909e+00 s\n",
      "validation epoch: 380, NN loss: 1.206e+04, Avg. cost: 2.152e+03 time/iter: 2.426e+00 s\n",
      "validation epoch: 390, NN loss: 1.189e+04, Avg. cost: 2.149e+03 time/iter: 2.378e+00 s\n",
      "validation epoch: 400, NN loss: 1.196e+04, Avg. cost: 2.121e+03 time/iter: 2.579e+00 s\n",
      "validation epoch: 410, NN loss: 1.250e+04, Avg. cost: 2.082e+03 time/iter: 2.497e+00 s\n",
      "validation epoch: 420, NN loss: 1.164e+04, Avg. cost: 2.047e+03 time/iter: 2.652e+00 s\n",
      "validation epoch: 430, NN loss: 1.122e+04, Avg. cost: 2.007e+03 time/iter: 2.338e+00 s\n",
      "validation epoch: 440, NN loss: 1.075e+04, Avg. cost: 1.970e+03 time/iter: 2.528e+00 s\n",
      "validation epoch: 450, NN loss: 9.801e+03, Avg. cost: 1.885e+03 time/iter: 2.834e+00 s\n",
      "validation epoch: 460, NN loss: 8.729e+03, Avg. cost: 1.851e+03 time/iter: 2.644e+00 s\n",
      "validation epoch: 470, NN loss: 8.201e+03, Avg. cost: 1.797e+03 time/iter: 2.568e+00 s\n",
      "validation epoch: 480, NN loss: 6.693e+03, Avg. cost: 1.610e+03 time/iter: 2.535e+00 s\n",
      "validation epoch: 490, NN loss: 6.894e+03, Avg. cost: 1.686e+03 time/iter: 2.406e+00 s\n",
      "validation epoch: 500, NN loss: 4.613e+03, Avg. cost: 1.357e+03 time/iter: 2.413e+00 s\n",
      "validation epoch: 510, NN loss: 3.513e+03, Avg. cost: 1.177e+03 time/iter: 2.727e+00 s\n",
      "validation epoch: 520, NN loss: 2.465e+03, Avg. cost: 1.006e+03 time/iter: 2.365e+00 s\n",
      "validation epoch: 530, NN loss: 1.823e+03, Avg. cost: 8.474e+02 time/iter: 2.448e+00 s\n",
      "validation epoch: 540, NN loss: 1.280e+03, Avg. cost: 7.232e+02 time/iter: 2.359e+00 s\n",
      "validation epoch: 550, NN loss: 7.327e+02, Avg. cost: 6.402e+02 time/iter: 2.285e+00 s\n",
      "validation epoch: 560, NN loss: 3.572e+02, Avg. cost: 4.954e+02 time/iter: 2.356e+00 s\n",
      "validation epoch: 570, NN loss: 1.623e+02, Avg. cost: 3.989e+02 time/iter: 2.382e+00 s\n",
      "validation epoch: 580, NN loss: 9.502e+01, Avg. cost: 3.530e+02 time/iter: 2.562e+00 s\n",
      "validation epoch: 590, NN loss: 8.336e+01, Avg. cost: 3.469e+02 time/iter: 2.368e+00 s\n",
      "validation epoch: 600, NN loss: 4.997e+01, Avg. cost: 3.240e+02 time/iter: 2.379e+00 s\n",
      "validation epoch: 610, NN loss: 3.822e+01, Avg. cost: 3.152e+02 time/iter: 2.614e+00 s\n",
      "validation epoch: 620, NN loss: 3.012e+01, Avg. cost: 3.104e+02 time/iter: 2.447e+00 s\n",
      "validation epoch: 630, NN loss: 2.094e+01, Avg. cost: 3.058e+02 time/iter: 2.760e+00 s\n",
      "validation epoch: 640, NN loss: 1.269e+01, Avg. cost: 3.022e+02 time/iter: 2.401e+00 s\n",
      "validation epoch: 650, NN loss: 1.216e+01, Avg. cost: 3.048e+02 time/iter: 2.585e+00 s\n",
      "validation epoch: 660, NN loss: 4.162e+00, Avg. cost: 2.920e+02 time/iter: 2.563e+00 s\n",
      "validation epoch: 670, NN loss: 1.994e+00, Avg. cost: 2.947e+02 time/iter: 2.769e+00 s\n",
      "validation epoch: 680, NN loss: 8.360e-01, Avg. cost: 2.909e+02 time/iter: 2.431e+00 s\n",
      "validation epoch: 690, NN loss: 2.072e+00, Avg. cost: 2.976e+02 time/iter: 2.547e+00 s\n",
      "validation epoch: 700, NN loss: 8.600e-01, Avg. cost: 2.873e+02 time/iter: 2.580e+00 s\n",
      "validation epoch: 710, NN loss: 8.154e-01, Avg. cost: 2.970e+02 time/iter: 2.371e+00 s\n",
      "validation epoch: 720, NN loss: 1.012e+00, Avg. cost: 2.918e+02 time/iter: 2.600e+00 s\n",
      "validation epoch: 730, NN loss: 6.247e-01, Avg. cost: 2.902e+02 time/iter: 2.557e+00 s\n",
      "validation epoch: 740, NN loss: 6.147e-01, Avg. cost: 2.930e+02 time/iter: 2.390e+00 s\n",
      "validation epoch: 750, NN loss: 1.116e+00, Avg. cost: 2.946e+02 time/iter: 2.562e+00 s\n",
      "validation epoch: 760, NN loss: 5.475e-01, Avg. cost: 2.876e+02 time/iter: 2.366e+00 s\n",
      "validation epoch: 770, NN loss: 7.944e-01, Avg. cost: 2.972e+02 time/iter: 2.526e+00 s\n",
      "validation epoch: 780, NN loss: 4.631e-01, Avg. cost: 2.869e+02 time/iter: 2.396e+00 s\n",
      "validation epoch: 790, NN loss: 4.618e-01, Avg. cost: 2.888e+02 time/iter: 2.333e+00 s\n",
      "validation epoch: 800, NN loss: 5.123e-01, Avg. cost: 2.851e+02 time/iter: 2.543e+00 s\n"
     ]
    }
   ],
   "source": [
    "model.train_loop(n_epoch=800, init_lr_value=1e-3, fixed_lr=True, l2_reg=1e-4)"
   ]
  },
  {
   "cell_type": "code",
   "execution_count": 8,
   "id": "difficult-circular",
   "metadata": {},
   "outputs": [],
   "source": [
    "# torch.save(model.Vnet.state_dict(), './saved-models/torch-model')"
   ]
  },
  {
   "cell_type": "code",
   "execution_count": 9,
   "id": "equipped-palmer",
   "metadata": {},
   "outputs": [],
   "source": [
    "# NN = HJBNet(n_in=cfg.n_state+1, n_out=1, n_hidden=cfg.n_hidden)\n",
    "# NN.load_state_dict(torch.load('./saved-models/torch-model'))\n",
    "# NN.eval()"
   ]
  },
  {
   "cell_type": "code",
   "execution_count": 13,
   "id": "returning-actor",
   "metadata": {},
   "outputs": [
    {
     "data": {
      "text/plain": [
       "[<matplotlib.lines.Line2D at 0x7fa078888e50>,\n",
       " <matplotlib.lines.Line2D at 0x7f9ff2f85250>]"
      ]
     },
     "execution_count": 13,
     "metadata": {},
     "output_type": "execute_result"
    },
    {
     "data": {
      "image/png": "[encoded data removed]",
      "text/plain": [
       "<Figure size 432x288 with 1 Axes>"
      ]
     },
     "metadata": {
      "needs_background": "light"
     },
     "output_type": "display_data"
    }
   ],
   "source": [
    "t_pred, X_pred, v_pred, u_pred, loss, cost = model.predict(n_episode=128)\n",
    "\n",
    "plt.plot(t_pred[0,:], X_pred.mean(axis=0))"
   ]
  },
  {
   "cell_type": "code",
   "execution_count": 14,
   "id": "given-holmes",
   "metadata": {},
   "outputs": [
    {
     "data": {
      "text/plain": [
       "[<matplotlib.lines.Line2D at 0x7f9ff2f24950>]"
      ]
     },
     "execution_count": 14,
     "metadata": {},
     "output_type": "execute_result"
    },
    {
     "data": {
      "image/png": "[encoded data removed]",
      "text/plain": [
       "<Figure size 432x288 with 1 Axes>"
      ]
     },
     "metadata": {
      "needs_background": "light"
     },
     "output_type": "display_data"
    }
   ],
   "source": [
    "plt.plot(t_pred[0,:-1], u_pred.mean(0))"
   ]
  },
  {
   "cell_type": "code",
   "execution_count": 15,
   "id": "aerial-attendance",
   "metadata": {},
   "outputs": [
    {
     "data": {
      "text/plain": [
       "[<matplotlib.lines.Line2D at 0x7f9ff2e99090>]"
      ]
     },
     "execution_count": 15,
     "metadata": {},
     "output_type": "execute_result"
    },
    {
     "data": {
      "image/png": "[encoded data removed]",
      "text/plain": [
       "<Figure size 432x288 with 1 Axes>"
      ]
     },
     "metadata": {
      "needs_background": "light"
     },
     "output_type": "display_data"
    }
   ],
   "source": [
    "plt.plot(t_pred[0,:], v_pred.mean(0))"
   ]
  },
  {
   "cell_type": "markdown",
   "id": "leading-cleaners",
   "metadata": {},
   "source": [
    "Trained model can be used for **online inference**. Here, we load the `StochPendulum-v0` gym environment to emulate the process. It generates the observations for each state (pendulum position and velocity), takes the action (optimal control) from the model and generates next state and reward. This will repeat for a certain period of time or until it reaches the end of the episode."
   ]
  },
  {
   "cell_type": "code",
   "execution_count": 6,
   "id": "crucial-validity",
   "metadata": {},
   "outputs": [
    {
     "ename": "NameError",
     "evalue": "name 'cfg' is not defined",
     "output_type": "error",
     "traceback": [
      "\u001b[0;31m---------------------------------------------------------------------------\u001b[0m",
      "\u001b[0;31mNameError\u001b[0m                                 Traceback (most recent call last)",
      "\u001b[0;32m<ipython-input-6-0133d423c89a>\u001b[0m in \u001b[0;36m<module>\u001b[0;34m\u001b[0m\n\u001b[1;32m      3\u001b[0m from the model and generates next state for a certain period of time or until it reaches the end of the episode \"\"\"\n\u001b[1;32m      4\u001b[0m \u001b[0;34m\u001b[0m\u001b[0m\n\u001b[0;32m----> 5\u001b[0;31m \u001b[0mdt\u001b[0m \u001b[0;34m=\u001b[0m \u001b[0mcfg\u001b[0m\u001b[0;34m.\u001b[0m\u001b[0mT_terminal\u001b[0m \u001b[0;34m/\u001b[0m \u001b[0mcfg\u001b[0m\u001b[0;34m.\u001b[0m\u001b[0mn_timestep\u001b[0m\u001b[0;34m\u001b[0m\u001b[0;34m\u001b[0m\u001b[0m\n\u001b[0m\u001b[1;32m      6\u001b[0m \u001b[0msigma\u001b[0m \u001b[0;34m=\u001b[0m \u001b[0mcfg\u001b[0m\u001b[0;34m.\u001b[0m\u001b[0msigma\u001b[0m\u001b[0;34m[\u001b[0m\u001b[0;36m1\u001b[0m\u001b[0;34m]\u001b[0m\u001b[0;34m\u001b[0m\u001b[0;34m\u001b[0m\u001b[0m\n\u001b[1;32m      7\u001b[0m \u001b[0mkwargs\u001b[0m \u001b[0;34m=\u001b[0m \u001b[0;34m{\u001b[0m\u001b[0;34m'sigma'\u001b[0m\u001b[0;34m:\u001b[0m \u001b[0msigma\u001b[0m\u001b[0;34m,\u001b[0m \u001b[0;34m'dt'\u001b[0m\u001b[0;34m:\u001b[0m \u001b[0mdt\u001b[0m\u001b[0;34m}\u001b[0m\u001b[0;34m\u001b[0m\u001b[0;34m\u001b[0m\u001b[0m\n",
      "\u001b[0;31mNameError\u001b[0m: name 'cfg' is not defined"
     ]
    }
   ],
   "source": [
    "dt = cfg.T_terminal / cfg.n_timestep\n",
    "sigma = cfg.sigma[1]\n",
    "kwargs = {'sigma': sigma, 'dt': dt}\n",
    "# eval_env = wrap_env(gym.make('StochPendulum-v0', **kwargs))        # wrapper to create a video and save to disk\n",
    "eval_env = gym.make('StochPendulum-v0')\n",
    "\n",
    "t = 0\n",
    "episodic_reward = 0                               # reward = -cost\n",
    "\"\"\" get the state from the gym env and reshape it for giving to the model \"\"\"\n",
    "prev_state = eval_env.reset()\n",
    "torch_t = torch.Tensor( np.array( [[t]] ) ).to(cfg.device)\n",
    "prev_state = np.array( [[prev_state[0], prev_state[1]]] )\n",
    "torch_prev_state = torch.Tensor(prev_state).requires_grad_(True).to(cfg.device)\n",
    "_, z = model.net_v_z(torch_t, torch_prev_state)   # model prediction on V_x\n",
    "\n",
    "for n in range(cfg.n_timestep):\n",
    "    eval_env.render()\n",
    "    action = model.env.optimal_control(z)         # compute the optimal control (action)\n",
    "    \"\"\" give action to the gym env and recieve the new state as well as the reward \"\"\"\n",
    "    state, reward, done, info = eval_env.step(action.detach().numpy()[0])\n",
    "    episodic_reward += -reward\n",
    "    t += dt\n",
    "    prev_state = np.array( [[state[0], state[1]]] )\n",
    "    if done:\n",
    "        print(f'Episode finished after {t:.3f} seconds with cost = {episodic_reward:.3f}')\n",
    "        break\n",
    "    torch_t = torch.Tensor(np.array( [[t]] )).to(cfg.device)\n",
    "    torch_prev_state = torch.Tensor(prev_state).requires_grad_(True).to(cfg.device)\n",
    "    _, z = model.net_v_z(torch_t, torch_prev_state)\n",
    "eval_env.close()\n",
    "\n",
    "\"\"\" use this method if the video is saved to disk \"\"\"\n",
    "# show_video()"
   ]
  },
  {
   "cell_type": "code",
   "execution_count": 104,
   "id": "central-dubai",
   "metadata": {},
   "outputs": [],
   "source": [
    "class TestGenerator:\n",
    "    num_time_steps=50\n",
    "    num_price_levels=20\n",
    "    spread=1e-2\n",
    "    p0=5\n",
    "\n",
    "    def __init__(self):\n",
    "        pass\n",
    "\n",
    "    def generate_new_episode(self):\n",
    "        pred_returns=(np.random.randn(self.num_time_steps)/5)*1e-2\n",
    "        alpha=30\n",
    "        returns = (alpha*(np.random.randn(self.num_time_steps)/5)*1e-2 + pred_returns)\n",
    "        self.mid=returns.cumsum()+self.p0\n",
    "        self.bid=self.mid-self.spread/2\n",
    "        self.ask=self.mid+self.spread/2\n",
    "        self.mid_fcst=pred_returns.cumsum()"
   ]
  },
  {
   "cell_type": "code",
   "execution_count": 105,
   "id": "dutch-scholarship",
   "metadata": {},
   "outputs": [],
   "source": [
    "gen = TestGenerator()\n",
    "gen.generate_new_episode()"
   ]
  },
  {
   "cell_type": "code",
   "execution_count": 106,
   "id": "responsible-hydrogen",
   "metadata": {},
   "outputs": [
    {
     "data": {
      "text/plain": [
       "[<matplotlib.lines.Line2D at 0x7fdfe027b390>]"
      ]
     },
     "execution_count": 106,
     "metadata": {},
     "output_type": "execute_result"
    },
    {
     "data": {
      "image/png": "[encoded data removed]",
      "text/plain": [
       "<Figure size 432x288 with 1 Axes>"
      ]
     },
     "metadata": {
      "needs_background": "light"
     },
     "output_type": "display_data"
    }
   ],
   "source": [
    "plt.plot(gen.mid)\n",
    "plt.plot(gen.bid)\n",
    "plt.plot(gen.mid_fcst+gen.p0)"
   ]
  },
  {
   "cell_type": "code",
   "execution_count": 107,
   "id": "weird-statistics",
   "metadata": {},
   "outputs": [],
   "source": [
    "mid_price = []\n",
    "for i in range(250000):\n",
    "    gen.generate_new_episode()\n",
    "    mid_price.append(gen.mid)"
   ]
  },
  {
   "cell_type": "code",
   "execution_count": 108,
   "id": "acoustic-cable",
   "metadata": {},
   "outputs": [],
   "source": [
    "max_price = np.array(mid_price).max()\n",
    "min_price = np.array(mid_price).min()"
   ]
  },
  {
   "cell_type": "code",
   "execution_count": 109,
   "id": "direct-worry",
   "metadata": {},
   "outputs": [
    {
     "data": {
      "text/plain": [
       "3.99"
      ]
     },
     "execution_count": 109,
     "metadata": {},
     "output_type": "execute_result"
    }
   ],
   "source": [
    "np.around(max_price, 2)-np.around(min_price, 2)"
   ]
  },
  {
   "cell_type": "code",
   "execution_count": 111,
   "id": "identified-physiology",
   "metadata": {},
   "outputs": [
    {
     "data": {
      "text/plain": [
       "3.1209470032052202"
      ]
     },
     "execution_count": 111,
     "metadata": {},
     "output_type": "execute_result"
    }
   ],
   "source": [
    "min_price"
   ]
  },
  {
   "cell_type": "code",
   "execution_count": null,
   "id": "collective-sunglasses",
   "metadata": {},
   "outputs": [],
   "source": []
  }
 ],
 "metadata": {
  "kernelspec": {
   "display_name": "Python 3",
   "language": "python",
   "name": "python3"
  },
  "language_info": {
   "codemirror_mode": {
    "name": "ipython",
    "version": 3
   },
   "file_extension": ".py",
   "mimetype": "text/x-python",
   "name": "python",
   "nbconvert_exporter": "python",
   "pygments_lexer": "ipython3",
   "version": "3.7.10"
  }
 },
 "nbformat": 4,
 "nbformat_minor": 5
}
