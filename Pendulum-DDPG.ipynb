{
 "cells": [
  {
   "cell_type": "markdown",
   "id": "bc436f79",
   "metadata": {
    "id": "corresponding-incident"
   },
   "source": [
    "## Introduction\n",
    "\n",
    "**Deep Deterministic Policy Gradient (DDPG)** is a model-free off-policy algorithm for\n",
    "learning continous actions. It combines ideas from DPG (Deterministic Policy Gradient) and DQN (Deep Q-Network).\n",
    "It uses Experience Replay and slow-learning target networks from DQN, and it is based on\n",
    "DPG, which can operate over continuous action spaces.\n",
    "\n",
    "This tutorial closely follows this paper -\n",
    "[Continuous control with deep reinforcement learning](https://arxiv.org/pdf/1509.02971.pdf)\n",
    "\n",
    "## Problem Setup\n",
    "\n",
    "We are trying to solve the classic **Inverted Pendulum** control problem. In this setting, the agent can take only two actions: swing left or swing right.\n",
    "\n",
    "What make this problem challenging for Q-Learning Algorithms is that actions\n",
    "are **continuous** instead of being **discrete**. That is, instead of using two\n",
    "discrete actions like `-1` or `+1`, the agent has to select from infinite actions ranging from `-10` to `+10`.\n",
    "\n",
    "### Quick theory\n",
    "\n",
    "Just like the Actor-Critic method, we have two networks:\n",
    "\n",
    "1. Actor - It proposes an action given a state.\n",
    "2. Critic - It predicts if the action is good (positive value) or bad (negative value) given a state and an action.\n",
    "\n",
    "DDPG uses two more techniques:\n",
    "\n",
    "**First, it uses two Target networks.**\n",
    "\n",
    "This way it adds stability to training. In short, the agent is learning from estimated\n",
    "targets and Target networks are updated slowly, hence keeping the estimated targets\n",
    "stable.\n",
    "\n",
    "**Second, it uses Experience Replay.**\n",
    "\n",
    "We store list of tuples `(state, action, reward, next_state)`, and instead of\n",
    "learning only from recent experience, it learns from sampling all of the experience\n",
    "accumulated so far.\n",
    "\n",
    "### Note\n",
    "\n",
    "This notebook is adopted from a tutorial on Keras website that can be found here: [Keras Tutorial](https://keras.io/examples/rl/ddpg_pendulum/)\n",
    "\n",
    "The main difference is the modification in the Pendulum environment, which adds noise to the velocity of the pendulum, hence, making the control problem stochastic as opposed to the original deterministic problem. The new gym environment `gym_StochPendulum` must be installed first.\n"
   ]
  },
  {
   "cell_type": "code",
   "execution_count": 3,
   "id": "f40a1aa0",
   "metadata": {
    "id": "u3XDYjrqHMJr"
   },
   "outputs": [],
   "source": [
    "# !pip install gym > /dev/null 2>&1\n",
    "# !pip install -e gym-StochPendulum > /dev/null 2>&1\n",
    "# !pip install pyvirtualdisplay > /dev/null 2>&1\n",
    "# !apt-get install -y xvfb python-opengl ffmpeg > /dev/null 2>&1"
   ]
  },
  {
   "cell_type": "code",
   "execution_count": 4,
   "id": "964b5afe",
   "metadata": {
    "id": "4UiSnFdbHCJ7"
   },
   "outputs": [],
   "source": [
    "import numpy as np\n",
    "import numpy.random as npr\n",
    "\n",
    "import tensorflow as tf\n",
    "from tensorflow.keras import layers\n",
    "\n",
    "from tqdm import trange\n",
    "\n",
    "import gym\n",
    "import gym_StochPendulum\n",
    "from gym import logger as gymlogger\n",
    "from gym.wrappers import Monitor\n",
    "gymlogger.set_level(40)              # error only\n",
    "\n",
    "import matplotlib\n",
    "import matplotlib.pyplot as plt\n",
    "%matplotlib inline\n",
    "import math\n",
    "\n",
    "from os import path\n",
    "import glob\n",
    "import io\n",
    "import base64\n",
    "import ipywidgets as widgets\n",
    "from IPython.display import HTML\n",
    "from IPython import display as ipythondisplay\n",
    "from pyvirtualdisplay import Display\n",
    "\n",
    "\"\"\"\n",
    "Utility functions to enable video recording of gym environment and displaying it\n",
    "To enable video, run \"env = wrap_env(env)\"\n",
    "\"\"\"\n",
    "def show_video(path_to_video):\n",
    "    if path.exists(path_to_video):\n",
    "        mp4 = path_to_video\n",
    "        video = io.open(mp4, 'r+b').read()\n",
    "        encoded = base64.b64encode(video)\n",
    "        ipythondisplay.display(HTML(data='''<video alt=\"test\" autoplay loop controls style=\"height: 300px;\">\n",
    "                <source src=\"data:video/mp4;base64,{0}\" type=\"video/mp4\" /> </video>'''.format(encoded.decode('ascii'))))\n",
    "    else:\n",
    "        print('Video cannot be found...')\n",
    "\n",
    "def wrap_env(env):\n",
    "    env = Monitor(env, './video', force=True)\n",
    "    return env"
   ]
  },
  {
   "cell_type": "markdown",
   "id": "1acc1ea4",
   "metadata": {
    "id": "fifth-actor"
   },
   "source": [
    "We use [OpenAIGym](http://gym.openai.com/docs) to create the environment.\n",
    "We will use the `upper_bound` parameter to scale actions later."
   ]
  },
  {
   "cell_type": "code",
   "execution_count": 5,
   "id": "a710b052",
   "metadata": {
    "colab": {
     "base_uri": "https://localhost:8080/"
    },
    "executionInfo": {
     "elapsed": 380,
     "status": "ok",
     "timestamp": 1618003938443,
     "user": {
      "displayName": "Alireza Yazdani",
      "photoUrl": "",
      "userId": "01186117598735978415"
     },
     "user_tz": 240
    },
    "id": "creative-salem",
    "outputId": "eb225c46-9fa2-48da-c6b1-af557d816364"
   },
   "outputs": [
    {
     "name": "stdout",
     "output_type": "stream",
     "text": [
      "Size of State Space ->  2\n",
      "Size of Action Space ->  1\n",
      "Max Value of Action ->  10.0\n",
      "Min Value of Action ->  -10.0\n"
     ]
    }
   ],
   "source": [
    "\"\"\" set up the problem similar to the stochastic control problem for comparison \n",
    "the episode length is 10 and there are 200 steps, thus dt=0.05; also noise level sigma=1 \"\"\"\n",
    "problem = 'StochPendulum-v0'\n",
    "kwargs = {'sigma': 1., 'dt': 0.05}\n",
    "env = gym.make(problem, **kwargs)\n",
    "\n",
    "num_states = env.observation_space.shape[0]\n",
    "print(\"Size of State Space ->  {}\".format(num_states))\n",
    "num_actions = env.action_space.shape[0]\n",
    "print(\"Size of Action Space ->  {}\".format(num_actions))\n",
    "\n",
    "upper_bound = env.action_space.high[0]\n",
    "lower_bound = env.action_space.low[0]\n",
    "\n",
    "print(\"Max Value of Action ->  {}\".format(upper_bound))\n",
    "print(\"Min Value of Action ->  {}\".format(lower_bound))"
   ]
  },
  {
   "cell_type": "markdown",
   "id": "d96d5f69",
   "metadata": {
    "id": "transsexual-brick"
   },
   "source": [
    "To implement better exploration by the Actor network, we use noisy perturbations,\n",
    "specifically\n",
    "an **Ornstein-Uhlenbeck process** for generating noise, as described in the paper.\n",
    "It samples noise from a correlated normal distribution and adds it to the action (control)."
   ]
  },
  {
   "cell_type": "code",
   "execution_count": 6,
   "id": "bd56e8ca",
   "metadata": {
    "id": "requested-scientist"
   },
   "outputs": [],
   "source": [
    "class OUActionNoise:\n",
    "    def __init__(self, mean, std_deviation, theta=0.15, dt=1e-2, x_initial=None):\n",
    "        self.theta = theta\n",
    "        self.mean = mean\n",
    "        self.std_dev = std_deviation\n",
    "        self.dt = dt\n",
    "        self.x_initial = x_initial\n",
    "        self.reset()\n",
    "\n",
    "    def __call__(self):\n",
    "        \"\"\" formula taken from https://www.wikipedia.org/wiki/Ornstein-Uhlenbeck_process \"\"\"\n",
    "        x = (\n",
    "            self.x_prev\n",
    "            + self.theta * (self.mean - self.x_prev) * self.dt\n",
    "            + self.std_dev * np.sqrt(self.dt) * np.random.normal(size=self.mean.shape)\n",
    "        )\n",
    "        \"\"\" store x into x_prev\n",
    "        makes next noise dependent on current one \"\"\"\n",
    "        self.x_prev = x\n",
    "        return x\n",
    "\n",
    "    def reset(self):\n",
    "        if self.x_initial is not None:\n",
    "            self.x_prev = self.x_initial\n",
    "        else:\n",
    "            self.x_prev = np.zeros_like(self.mean)"
   ]
  },
  {
   "cell_type": "markdown",
   "id": "3ecc7936",
   "metadata": {
    "id": "northern-bankruptcy"
   },
   "source": [
    "---\n",
    "![Algorithm](https://i.imgur.com/mS6iGyJ.jpg)\n",
    "---\n",
    "\n",
    "\n",
    "**Critic loss** - Mean Squared Error of `y - Q(s, a)`\n",
    "where `y` is the expected return as seen by the Target network,\n",
    "and `Q(s, a)` is action value predicted by the Critic network. `y` is a moving target\n",
    "that the critic model tries to achieve; we make this target\n",
    "stable by updating the Target model slowly.\n",
    "\n",
    "**Actor loss** - This is computed using the mean of the value given by the Critic network\n",
    "for the actions taken by the Actor network. We seek to maximize this quantity.\n",
    "\n",
    "Hence, we update the Actor network so that it produces actions that get\n",
    "the maximum predicted value as seen by the Critic, for a given state.\n",
    "\n",
    "The `Buffer` class implements **Experience Replay**."
   ]
  },
  {
   "cell_type": "code",
   "execution_count": 8,
   "id": "9f7b7378",
   "metadata": {
    "id": "legal-technology"
   },
   "outputs": [],
   "source": [
    "class Buffer():\n",
    "    def __init__(self, buffer_capacity=100000, batch_size=64):\n",
    "        self.buffer_capacity = buffer_capacity        # number of \"experiences\" to store at max\n",
    "        self.batch_size      = batch_size             # number of tuples to train on\n",
    "        self.buffer_counter  = 0                      # number of times record() was called\n",
    "\n",
    "        \"\"\" instead of list of tuples as the exp.replay concept go \n",
    "        we use different np.arrays for each tuple element \"\"\"\n",
    "        self.state_buffer      = np.zeros((self.buffer_capacity, num_states))\n",
    "        self.action_buffer     = np.zeros((self.buffer_capacity, num_actions))\n",
    "        self.reward_buffer     = np.zeros((self.buffer_capacity, 1))\n",
    "        self.next_state_buffer = np.zeros((self.buffer_capacity, num_states))\n",
    "\n",
    "    \"\"\" (s,a,r,s') obervation tuple as input \"\"\"\n",
    "    def record(self, obs_tuple):\n",
    "        \"\"\" set index to zero if buffer_capacity is exceeded, replacing old records \"\"\"\n",
    "        index = self.buffer_counter % self.buffer_capacity\n",
    "\n",
    "        self.state_buffer[index]      = obs_tuple[0]\n",
    "        self.action_buffer[index]     = obs_tuple[1]\n",
    "        self.reward_buffer[index]     = obs_tuple[2]\n",
    "        self.next_state_buffer[index] = obs_tuple[3]\n",
    "\n",
    "        self.buffer_counter += 1\n",
    "\n",
    "    @tf.function\n",
    "    def update(\n",
    "        self, state_batch, action_batch, reward_batch, next_state_batch,\n",
    "    ):\n",
    "        \"\"\" train and update Actor & Critic networks \"\"\"\n",
    "        with tf.GradientTape() as tape:\n",
    "            target_actions = target_actor(next_state_batch, training=True)\n",
    "            y = reward_batch + gamma*target_critic(\n",
    "                [next_state_batch, target_actions], training=True\n",
    "            )\n",
    "            critic_value = critic_model([state_batch, action_batch], training=True)\n",
    "            critic_loss = tf.math.reduce_mean(tf.math.square(y - critic_value))\n",
    "\n",
    "        critic_grad = tape.gradient(critic_loss, critic_model.trainable_variables)\n",
    "        critic_optimizer.apply_gradients(\n",
    "            zip(critic_grad, critic_model.trainable_variables)\n",
    "        )\n",
    "\n",
    "        with tf.GradientTape() as tape:\n",
    "            actions = actor_model(state_batch, training=True)\n",
    "            critic_value = critic_model([state_batch, actions], training=True)\n",
    "            \"\"\" use `-value` as we want to maximize the value given by the critic for actions \"\"\"\n",
    "            actor_loss = -tf.math.reduce_mean(critic_value)\n",
    "\n",
    "        actor_grad = tape.gradient(actor_loss, actor_model.trainable_variables)\n",
    "        actor_optimizer.apply_gradients(\n",
    "            zip(actor_grad, actor_model.trainable_variables)\n",
    "        )\n",
    "\n",
    "    \"\"\" compute the loss and update parameters \"\"\"\n",
    "    def learn(self):\n",
    "        record_range = min(self.buffer_counter, self.buffer_capacity)        # get sampling range\n",
    "        batch_indices = np.random.choice(record_range, self.batch_size)      # randomly sample indices\n",
    "\n",
    "        \"\"\" convert to tensors \"\"\"\n",
    "        state_batch      = tf.convert_to_tensor(self.state_buffer[batch_indices])\n",
    "        action_batch     = tf.convert_to_tensor(self.action_buffer[batch_indices])\n",
    "        reward_batch     = tf.convert_to_tensor(self.reward_buffer[batch_indices])\n",
    "        reward_batch     = tf.cast(reward_batch, dtype=tf.float32)\n",
    "        next_state_batch = tf.convert_to_tensor(self.next_state_buffer[batch_indices])\n",
    "\n",
    "        self.update(state_batch, action_batch, reward_batch, next_state_batch)\n",
    "\n",
    "\n",
    "\"\"\" update target parameters slowly based on rate `tau`, which is much less than one \"\"\"\n",
    "@tf.function\n",
    "def update_target(target_weights, weights, tau):\n",
    "    for (a, b) in zip(target_weights, weights):\n",
    "        a.assign(b*tau + a*(1-tau))"
   ]
  },
  {
   "cell_type": "markdown",
   "id": "86beeb4a",
   "metadata": {
    "id": "gentle-ozone"
   },
   "source": [
    "Next we define the Actor and Critic networks. These are basic Dense models with `ReLU` activation.\n",
    "\n",
    "**Note:** We need the initialization for last layer of the Actor to be between\n",
    "`-0.003` and `0.003` as this prevents us from getting `1` or `-1` output values in\n",
    "the initial stages, which would squash the gradients to zero,\n",
    "as we use the `tanh` activation."
   ]
  },
  {
   "cell_type": "code",
   "execution_count": 9,
   "id": "b22debb7",
   "metadata": {
    "id": "recent-census"
   },
   "outputs": [],
   "source": [
    "def get_actor():\n",
    "    \"\"\" initialize weights between -3e-3 and 3-e3 \"\"\"\n",
    "    last_init = tf.random_uniform_initializer(minval=-0.003, maxval=0.003)\n",
    "\n",
    "    inputs = layers.Input(shape=(num_states,))\n",
    "    out = layers.Dense(256, activation=\"relu\")(inputs)\n",
    "    out = layers.Dense(256, activation=\"relu\")(out)\n",
    "    outputs = layers.Dense(1, activation=\"tanh\", kernel_initializer=last_init)(out)\n",
    "\n",
    "    \"\"\" apply the upper bound for action \"\"\"\n",
    "    outputs = outputs * upper_bound\n",
    "    model = tf.keras.Model(inputs, outputs)\n",
    "    return model\n",
    "\n",
    "def get_critic():\n",
    "    \"\"\" states as input \"\"\"\n",
    "    state_input = layers.Input(shape=(num_states))\n",
    "    state_out = layers.Dense(16, activation=\"relu\")(state_input)\n",
    "    state_out = layers.Dense(32, activation=\"relu\")(state_out)\n",
    "\n",
    "    \"\"\" actions as input \"\"\"\n",
    "    action_input = layers.Input(shape=(num_actions))\n",
    "    action_out = layers.Dense(32, activation=\"relu\")(action_input)\n",
    "\n",
    "    \"\"\" both are passed through seperate layer before concatenating \"\"\"\n",
    "    concat = layers.Concatenate()([state_out, action_out])\n",
    "\n",
    "    out = layers.Dense(256, activation=\"relu\")(concat)\n",
    "    out = layers.Dense(256, activation=\"relu\")(out)\n",
    "    outputs = layers.Dense(1)(out)\n",
    "\n",
    "    \"\"\" outputs single value for given state-action \"\"\"\n",
    "    model = tf.keras.Model([state_input, action_input], outputs)\n",
    "    return model"
   ]
  },
  {
   "cell_type": "code",
   "execution_count": 10,
   "id": "a7e4b02e",
   "metadata": {
    "id": "improving-speaker"
   },
   "outputs": [],
   "source": [
    "\"\"\" returns an action sampled from Actor network plus some noise for exploration \"\"\"\n",
    "def policy(state, noise_object):\n",
    "    sampled_actions = tf.squeeze(actor_model(state))\n",
    "    noise = noise_object()\n",
    "    \n",
    "    sampled_actions = sampled_actions.numpy() + noise                    # adding noise to action\n",
    "    legal_action = np.clip(sampled_actions, lower_bound, upper_bound)    # make sure action is within bounds\n",
    "    return [np.squeeze(legal_action)]"
   ]
  },
  {
   "cell_type": "markdown",
   "id": "897288be",
   "metadata": {
    "id": "stupid-paragraph"
   },
   "source": [
    "## Training hyperparameters"
   ]
  },
  {
   "cell_type": "code",
   "execution_count": 11,
   "id": "b3bd2ba1",
   "metadata": {
    "id": "permanent-drive"
   },
   "outputs": [],
   "source": [
    "std_dev  = 0.2\n",
    "ou_noise = OUActionNoise(mean=np.zeros(1), std_deviation=float(std_dev)*np.ones(1))\n",
    "\n",
    "actor_model   = get_actor()\n",
    "critic_model  = get_critic()\n",
    "\n",
    "target_actor  = get_actor()\n",
    "target_critic = get_critic()\n",
    "\n",
    "\"\"\" make the weights equal initially \"\"\"\n",
    "target_actor.set_weights(actor_model.get_weights())\n",
    "target_critic.set_weights(critic_model.get_weights())\n",
    "\n",
    "\"\"\" learning rate for actor-critic models \"\"\"\n",
    "critic_lr = 0.002\n",
    "actor_lr  = 0.001\n",
    "\n",
    "critic_optimizer = tf.keras.optimizers.Adam(critic_lr)\n",
    "actor_optimizer  = tf.keras.optimizers.Adam(actor_lr)\n",
    "\n",
    "total_episodes = 100\n",
    "num_steps      = 200\n",
    "gamma = 0.99              # discount factor for future rewards\n",
    "tau   = 0.005             # used to update target networks\n",
    "\n",
    "buffer = Buffer(50000, 64)"
   ]
  },
  {
   "cell_type": "markdown",
   "id": "f039345f",
   "metadata": {
    "id": "solar-skill"
   },
   "source": [
    "Now we implement the main training loop, and iterate over episodes.\n",
    "We sample actions using `policy()` and train with `learn()` at each time step,\n",
    "along with updating the Target networks at a rate `tau`."
   ]
  },
  {
   "cell_type": "code",
   "execution_count": null,
   "id": "ebb674ec",
   "metadata": {
    "colab": {
     "base_uri": "https://localhost:8080/",
     "height": 1000
    },
    "executionInfo": {
     "elapsed": 200005,
     "status": "ok",
     "timestamp": 1618004254312,
     "user": {
      "displayName": "Alireza Yazdani",
      "photoUrl": "",
      "userId": "01186117598735978415"
     },
     "user_tz": 240
    },
    "id": "chronic-religion",
    "outputId": "8a27d1c4-72ac-4f6f-d973-01481193e681"
   },
   "outputs": [
    {
     "name": "stdout",
     "output_type": "stream",
     "text": [
      "WARNING:tensorflow:Layer dense is casting an input tensor from dtype float64 to the layer's dtype of float32, which is new behavior in TensorFlow 2.  The layer has dtype float32 because it's dtype defaults to floatx.\n",
      "\n",
      "If you intended to run this layer in float32, you can safely ignore this warning. If in doubt, this warning is likely only an issue if you are porting a TensorFlow 1.X model to TensorFlow 2.\n",
      "\n",
      "To change all layers to have dtype float64 by default, call `tf.keras.backend.set_floatx('float64')`. To change just this layer, pass dtype='float64' to the layer constructor. If you are the author of this layer, you can disable autocasting by passing autocast=False to the base Layer constructor.\n",
      "\n",
      "WARNING:tensorflow:Layer dense_9 is casting an input tensor from dtype float64 to the layer's dtype of float32, which is new behavior in TensorFlow 2.  The layer has dtype float32 because it's dtype defaults to floatx.\n",
      "\n",
      "If you intended to run this layer in float32, you can safely ignore this warning. If in doubt, this warning is likely only an issue if you are porting a TensorFlow 1.X model to TensorFlow 2.\n",
      "\n",
      "To change all layers to have dtype float64 by default, call `tf.keras.backend.set_floatx('float64')`. To change just this layer, pass dtype='float64' to the layer constructor. If you are the author of this layer, you can disable autocasting by passing autocast=False to the base Layer constructor.\n",
      "\n",
      "WARNING:tensorflow:Layer dense_12 is casting an input tensor from dtype float64 to the layer's dtype of float32, which is new behavior in TensorFlow 2.  The layer has dtype float32 because it's dtype defaults to floatx.\n",
      "\n",
      "If you intended to run this layer in float32, you can safely ignore this warning. If in doubt, this warning is likely only an issue if you are porting a TensorFlow 1.X model to TensorFlow 2.\n",
      "\n",
      "To change all layers to have dtype float64 by default, call `tf.keras.backend.set_floatx('float64')`. To change just this layer, pass dtype='float64' to the layer constructor. If you are the author of this layer, you can disable autocasting by passing autocast=False to the base Layer constructor.\n",
      "\n",
      "WARNING:tensorflow:Layer dense_3 is casting an input tensor from dtype float64 to the layer's dtype of float32, which is new behavior in TensorFlow 2.  The layer has dtype float32 because it's dtype defaults to floatx.\n",
      "\n",
      "If you intended to run this layer in float32, you can safely ignore this warning. If in doubt, this warning is likely only an issue if you are porting a TensorFlow 1.X model to TensorFlow 2.\n",
      "\n",
      "To change all layers to have dtype float64 by default, call `tf.keras.backend.set_floatx('float64')`. To change just this layer, pass dtype='float64' to the layer constructor. If you are the author of this layer, you can disable autocasting by passing autocast=False to the base Layer constructor.\n",
      "\n"
     ]
    }
   ],
   "source": [
    "ep_reward_list  = []                    # store reward history of each episode\n",
    "avg_reward_list = []                    # store average reward history of last few episodes\n",
    "\n",
    "pbar = trange(total_episodes)\n",
    "for ep in pbar:\n",
    "    prev_state = env.reset()\n",
    "    episodic_reward = 0\n",
    "\n",
    "    for it in range(num_steps):\n",
    "        tf_prev_state = tf.expand_dims(tf.convert_to_tensor(prev_state), 0)\n",
    "\n",
    "        action = policy(tf_prev_state, ou_noise)                 # action from policy with added noise for exploration\n",
    "        state, reward, done, info = env.step(action)             # recieve state and reward from environment\n",
    "\n",
    "        buffer.record((prev_state, action, reward, state))       # record the tuple in the buffer\n",
    "        episodic_reward += -reward\n",
    "\n",
    "        buffer.learn()\n",
    "        update_target(target_actor.variables, actor_model.variables, tau)\n",
    "        update_target(target_critic.variables, critic_model.variables, tau)\n",
    "\n",
    "        \"\"\" end this episode when `done` is True \"\"\"\n",
    "        if done:\n",
    "            break\n",
    "\n",
    "        prev_state = state\n",
    "\n",
    "    ep_reward_list.append(episodic_reward)\n",
    "    \n",
    "    avg_reward = np.mean(ep_reward_list[-40:])                   # mean of last 40 episodes\n",
    "    pbar.set_postfix({'Avg Reward': avg_reward})\n",
    "    avg_reward_list.append(avg_reward)\n",
    "\n",
    "\"\"\" plot graph for episodes versus Avg. rewards \"\"\"\n",
    "fig = plt.figure(figsize=(8, 6))\n",
    "plt.plot(avg_reward_list)\n",
    "plt.xlabel('Episode', fontsize=14)\n",
    "plt.ylabel('Avg. Epsiodic Reward', fontsize=14)\n",
    "plt.show()\n",
    "\n",
    "\n",
    "\"\"\" save the weights \"\"\"\n",
    "actor_model.save_weights('./saved-models/pendulum_actor.h5')\n",
    "critic_model.save_weights('./saved-models/pendulum_critic.h5')\n",
    "\n",
    "target_actor.save_weights('./saved-models/pendulum_target_actor.h5')\n",
    "target_critic.save_weights('./saved-models/pendulum_target_critic.h5')"
   ]
  },
  {
   "cell_type": "markdown",
   "id": "b0a21dd2",
   "metadata": {
    "id": "comprehensive-public"
   },
   "source": [
    "If training proceeds correctly, the average episodic reward will increase with time.\n",
    "\n",
    "Feel free to try different learning rates, `tau` values, and architectures for the\n",
    "Actor and Critic networks.\n",
    "\n",
    "The Inverted Pendulum problem has low complexity, but DDPG work great on many other\n",
    "problems."
   ]
  },
  {
   "cell_type": "code",
   "execution_count": null,
   "id": "6dfa3f91",
   "metadata": {
    "colab": {
     "base_uri": "https://localhost:8080/",
     "height": 438
    },
    "executionInfo": {
     "elapsed": 6233,
     "status": "ok",
     "timestamp": 1618004403113,
     "user": {
      "displayName": "Alireza Yazdani",
      "photoUrl": "",
      "userId": "01186117598735978415"
     },
     "user_tz": 240
    },
    "id": "collaborative-wallet",
    "outputId": "d55e989c-fc46-43d2-e3b7-bd2dcad22242"
   },
   "outputs": [],
   "source": [
    "problem = 'StochPendulum-v0'\n",
    "kwargs = {'sigma': 1., 'dt': 0.05}\n",
    "eval_env = gym.make(problem, **kwargs)\n",
    "prev_state = eval_env.reset()\n",
    "episodic_reward = 0\n",
    "\n",
    "for t in range(250):\n",
    "    eval_env.render()\n",
    "    tf_prev_state = tf.expand_dims(tf.convert_to_tensor(prev_state), 0)\n",
    "    action = policy(tf_prev_state, ou_noise)\n",
    "    state, reward, done, info = eval_env.step(action)\n",
    "    episodic_reward += -reward\n",
    "    if done:\n",
    "        print(\"Episode finished after {} timesteps with cost = {}\".format(t+1, episodic_reward))\n",
    "        break\n",
    "    prev_state = state\n",
    "eval_env.close()\n",
    "show_video()"
   ]
  },
  {
   "cell_type": "code",
   "execution_count": null,
   "id": "ccce9743",
   "metadata": {
    "id": "8BmTWpL-om3l"
   },
   "outputs": [],
   "source": []
  }
 ],
 "metadata": {
  "colab": {
   "collapsed_sections": [],
   "name": "Pendulum-DDPG.ipynb",
   "provenance": [],
   "toc_visible": true
  },
  "kernelspec": {
   "display_name": "Python 3",
   "language": "python",
   "name": "python3"
  },
  "language_info": {
   "codemirror_mode": {
    "name": "ipython",
    "version": 3
   },
   "file_extension": ".py",
   "mimetype": "text/x-python",
   "name": "python",
   "nbconvert_exporter": "python",
   "pygments_lexer": "ipython3",
   "version": "3.7.10"
  }
 },
 "nbformat": 4,
 "nbformat_minor": 5
}
