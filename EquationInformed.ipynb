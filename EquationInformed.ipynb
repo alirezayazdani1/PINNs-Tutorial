{
 "cells": [
  {
   "cell_type": "code",
   "execution_count": 1,
   "id": "major-harassment",
   "metadata": {},
   "outputs": [],
   "source": [
    "import numpy as np\n",
    "import numpy.random as npr\n",
    "\n",
    "import tensorflow as tf\n",
    "\n",
    "from tqdm import trange\n",
    "\n",
    "import matplotlib.pyplot as plt\n",
    "from mpl_toolkits.mplot3d import Axes3D\n",
    "\n",
    "from scipy.interpolate import griddata\n",
    "\n",
    "tf.random.set_seed(1234)\n",
    "npr.seed(1234)"
   ]
  },
  {
   "cell_type": "code",
   "execution_count": 2,
   "id": "talented-warehouse",
   "metadata": {},
   "outputs": [],
   "source": [
    "class Dense(tf.Module):\n",
    "    def __init__(self, input_dim, output_dim, name=None):\n",
    "        super().__init__(name=name)\n",
    "        self.w = tf.Variable(tf.random.normal([input_dim, output_dim]), name='weights_%s'%name)\n",
    "        self.b = tf.Variable(tf.zeros([output_dim]), name='biases_%s'%name)\n",
    "        \n",
    "    def __call__(self, x):\n",
    "        return tf.matmul(x, self.w) + self.b\n",
    "    \n",
    "class MLP(tf.Module):\n",
    "    def __init__(self, input_size, output_size, hidden_sizes, name=None):\n",
    "        super().__init__(name=name)\n",
    "        self.layers = []\n",
    "        with self.name_scope:\n",
    "            for size in hidden_sizes:\n",
    "                self.layers.append(Dense(input_dim=input_size, output_dim=size, name='i'))\n",
    "                self.layers.append(tf.nn.tanh)\n",
    "                input_size = size\n",
    "            self.layers.append(Dense(input_dim=input_size, output_dim=output_size, name='output'))\n",
    "            \n",
    "    @tf.function\n",
    "    @tf.Module.with_name_scope\n",
    "    def __call__(self, x):\n",
    "        z = x\n",
    "        for layer in self.layers:\n",
    "            z = layer(z)\n",
    "        return z"
   ]
  },
  {
   "cell_type": "code",
   "execution_count": 3,
   "id": "violent-fishing",
   "metadata": {},
   "outputs": [],
   "source": [
    "class HeatEq1D():\n",
    "    def __init__(self, X_dat, y_dat, X_res, f_tf, layers):\n",
    "        # scaling factors\n",
    "        self.Xmean, self.Xstd = X_res.mean(0), X_res.std(0)\n",
    "        \n",
    "        # normalize data\n",
    "        X_dat = (X_dat-self.Xmean) / self.Xstd\n",
    "        X_res = (X_res-self.Xmean) / self.Xstd\n",
    "        \n",
    "        # weights that are \n",
    "        self.alpha = tf.constant(1.0)\n",
    "        self.beta  = tf.constant(1.0)\n",
    "\n",
    "        # store the normalized training data\n",
    "        self.X_d = X_dat.astype(np.float32)\n",
    "        self.y_d = y_dat.astype(np.float32)\n",
    "        self.X_r = X_res.astype(np.float32)\n",
    "        self.y_r = np.zeros((X_res.shape[0], 1), dtype=np.float32)\n",
    "        \n",
    "        self.f = f_tf\n",
    "        self.layers = layers\n",
    "\n",
    "        # set up network initialization and evaluation functions\n",
    "        self.Tnet = MLP(input_size=layers[0], output_size=layers[-1], hidden_sizes=layers[1:-1], name='Tnet')\n",
    "        \n",
    "        self.variables = self.Tnet.trainable_variables\n",
    "        \n",
    "        print('Trainable parameters:')\n",
    "        print('===================================')\n",
    "        for var in self.variables:\n",
    "            print(var.name, ', shape:', list(var.shape))\n",
    "        print('\\n')\n",
    "\n",
    "        # use tf optimizers to set optimizer initialization and learning rate scheduler\n",
    "        initial_lr = 1e-3\n",
    "        self.lr_scheduler = tf.optimizers.schedules.ExponentialDecay(initial_lr,\n",
    "                                                                     decay_steps=200,\n",
    "                                                                     decay_rate=0.95,\n",
    "                                                                     staircase=True)\n",
    "        self.opt = tf.optimizers.Adam(lr=initial_lr)\n",
    "        \n",
    "        # define mean squared error loss\n",
    "        self.MSE = tf.losses.MeanSquaredError()\n",
    "\n",
    "        # logger to monitor the loss function\n",
    "        self.loss_dat_log = []\n",
    "        self.loss_res_log = []\n",
    "\n",
    "    # forward pass for T\n",
    "    def forward_T(self, x):\n",
    "        return self.Tnet(x)\n",
    "    \n",
    "    # forward pass for equation residual\n",
    "    def forward_R(self, x):\n",
    "        with tf.GradientTape() as tape2:\n",
    "            tape2.watch(x)\n",
    "            with tf.GradientTape() as tape1:\n",
    "                tape1.watch(x)\n",
    "                T = self.forward_T(x)\n",
    "            T_x = tape1.gradient(T, x) / self.Xstd\n",
    "        T_xx = tape2.gradient(T_x, x) / self.Xstd\n",
    "        \n",
    "        residual = T_xx - self.f(x*self.Xstd + self.Xmean)\n",
    "        return residual\n",
    "    \n",
    "    @tf.function\n",
    "    def loss(self, batch):\n",
    "        X_d, y_d, X_r, y_r = batch\n",
    "        loss_d = self.MSE(y_d, self.forward_T(X_d))\n",
    "        loss_r = self.MSE(y_r, self.forward_R(X_r))\n",
    "        return loss_d, loss_r\n",
    "\n",
    "    def data_stream(self, n, num_batches, batch_size):\n",
    "        rng = npr.RandomState(0)\n",
    "        while True:\n",
    "            perm = rng.permutation(n)\n",
    "            for i in range(num_batches):\n",
    "                batch_idx = perm[i*batch_size:(i+1)*batch_size]\n",
    "                yield self.X_d, self.y_d, self.X_r[batch_idx], self.y_r[batch_idx]\n",
    "        \n",
    "    def train(self, num_epochs=100, batch_size=64):   \n",
    "        n = self.X_r.shape[0]\n",
    "        num_complete_batches, leftover = divmod(n, batch_size)\n",
    "        num_batches = num_complete_batches + bool(leftover)\n",
    "        assert n > num_batches\n",
    "        batches = self.data_stream(n, num_batches, batch_size)\n",
    "        \n",
    "        pbar = trange(num_epochs)\n",
    "        for epoch in pbar:\n",
    "            loss_dat = 0.\n",
    "            loss_res = 0.\n",
    "            loss_tot = 0.\n",
    "            for _ in range(num_batches):\n",
    "                batch = next(batches)\n",
    "                with tf.GradientTape(persistent=True) as tape:\n",
    "                    loss_d, loss_r = self.loss(batch)\n",
    "                    loss_t = self.alpha*loss_d + self.beta*loss_r\n",
    "                grads = tape.gradient(loss_t, self.variables)\n",
    "                self.opt.apply_gradients(zip(grads, self.variables))\n",
    "                loss_dat += loss_d\n",
    "                loss_res += loss_r\n",
    "                loss_tot += loss_t\n",
    "            pbar.set_postfix({'Total Loss': loss_tot.numpy()/num_batches})\n",
    "            self.loss_dat_log.append(loss_dat/num_batches)\n",
    "            self.loss_res_log.append(loss_res/num_batches)\n",
    "            self.lr_scheduler(epoch)\n",
    "    \n",
    "    # evaluate predictions at test points\n",
    "    def predict_T(self, X_star):\n",
    "        X_star = (X_star-self.Xmean) / self.Xstd\n",
    "        y_pred = self.forward_T(X_star.astype(np.float32))\n",
    "        return y_pred\n",
    "    \n",
    "    def predict_R(self, X_star):\n",
    "        X_star = (X_star-self.Xmean) / self.Xstd\n",
    "        r_pred = self.forward_R(X_star.astype(np.float32))\n",
    "        return r_pred"
   ]
  },
  {
   "cell_type": "code",
   "execution_count": 4,
   "id": "civil-novel",
   "metadata": {},
   "outputs": [],
   "source": [
    "# define forcing term\n",
    "def f(x):\n",
    "    return -np.pi**2 * np.sin(np.pi*x)\n",
    "\n",
    "# define forcing term (in Tensorflow semantics)\n",
    "def f_tf(x):\n",
    "    return -np.pi**2 * tf.sin(np.pi*x)\n",
    "\n",
    "# define exact solution (for validation purposes)    \n",
    "def u(x):\n",
    "    return np.sin(np.pi*x)\n",
    "\n",
    "# Number of training data\n",
    "N_u = 2                        # Boundary condition data on u(x)\n",
    "N_r = 256                      # Number of collocation points for minimizing the PDE residual\n",
    "lb  = np.array([-1.0])         # Left boundary of the domain\n",
    "ub  = np.array([1.0])          # Right boundary of the domain\n",
    "\n",
    "# Generate training data\n",
    "x_u = np.linspace(lb, ub, N_u)     # Location of boundary points (dimension N_u x 1)\n",
    "x_r = np.linspace(lb, ub, N_r)     # Location of collocation points (dimension N_r x 1)\n",
    "y_u = u(x_u)                       # Solution at boundary points (dimension N_u x 1)\n",
    "\n",
    "# Test data for validating the model predictions\n",
    "n_star = 1024\n",
    "x_star = np.linspace(lb, ub, n_star)\n",
    "u_star = u(x_star)\n",
    "f_star = f(x_star)"
   ]
  },
  {
   "cell_type": "code",
   "execution_count": 5,
   "id": "ordered-newport",
   "metadata": {},
   "outputs": [
    {
     "name": "stdout",
     "output_type": "stream",
     "text": [
      "Trainable parameters:\n",
      "===================================\n",
      "Tnet/biases_i:0 , shape: [64]\n",
      "Tnet/weights_i:0 , shape: [1, 64]\n",
      "Tnet/biases_output:0 , shape: [1]\n",
      "Tnet/weights_output:0 , shape: [64, 1]\n",
      "\n",
      "\n"
     ]
    }
   ],
   "source": [
    "# fully-connected neural net architecture (dimensions of each layer)\n",
    "layers = [1, 64, 1]\n",
    "\n",
    "# define PINN model\n",
    "model = HeatEq1D(x_u, y_u, x_r, f_tf, layers)"
   ]
  },
  {
   "cell_type": "code",
   "execution_count": 6,
   "id": "corrected-statistics",
   "metadata": {},
   "outputs": [
    {
     "name": "stderr",
     "output_type": "stream",
     "text": [
      "100%|██████████| 1000/1000 [01:51<00:00,  8.97it/s, Total Loss=0.133]\n"
     ]
    }
   ],
   "source": [
    "model.train(num_epochs=1000, batch_size=64)"
   ]
  },
  {
   "cell_type": "code",
   "execution_count": 7,
   "id": "inside-wireless",
   "metadata": {},
   "outputs": [
    {
     "name": "stdout",
     "output_type": "stream",
     "text": [
      "Relative L2 error_T: 1.663445e-02\n"
     ]
    }
   ],
   "source": [
    "# Compute prediction using the trained model\n",
    "x_ = x_star.reshape(-1, 64)\n",
    "T_pred = np.vstack([model.predict_T(x_[i:i+1].T) for i in range(x_.shape[0])])\n",
    "error_u = np.linalg.norm(u_star-T_pred, 2)/np.linalg.norm(u_star, 2)\n",
    "print('Relative L2 error_T: %e' % (error_u))"
   ]
  },
  {
   "cell_type": "code",
   "execution_count": 8,
   "id": "flexible-joint",
   "metadata": {},
   "outputs": [
    {
     "data": {
      "text/plain": [
       "<matplotlib.legend.Legend at 0x7fc14c3c9410>"
      ]
     },
     "execution_count": 8,
     "metadata": {},
     "output_type": "execute_result"
    },
    {
     "data": {
      "image/png": "[encoded data removed]",
      "text/plain": [
       "<Figure size 432x288 with 1 Axes>"
      ]
     },
     "metadata": {
      "needs_background": "light"
     },
     "output_type": "display_data"
    },
    {
     "data": {
      "image/png": "[encoded data removed]",
      "text/plain": [
       "<Figure size 432x288 with 1 Axes>"
      ]
     },
     "metadata": {
      "needs_background": "light"
     },
     "output_type": "display_data"
    }
   ],
   "source": [
    "# Plotting\n",
    "plt.figure(1)\n",
    "plt.plot(x_star, u_star, 'b-', linewidth = 2, label = \"Exact\")\n",
    "plt.plot(x_star, T_pred, 'r--', linewidth = 2, label = \"Prediction\")\n",
    "plt.plot(x_u, y_u, 'kx', linewidth = 2, label = \"Boundary data\")\n",
    "plt.legend(frameon=False, loc='upper left')\n",
    "plt.xlabel('$x$')\n",
    "plt.ylabel('$u(x)$')\n",
    "\n",
    "\n",
    "fig = plt.figure(2)\n",
    "ax = fig.add_subplot(1,1,1)\n",
    "ax.plot(model.loss_dat_log, label = '$u$')\n",
    "ax.plot(model.loss_res_log, label = '$r$')\n",
    "ax.set_yscale('log')\n",
    "plt.legend()"
   ]
  },
  {
   "cell_type": "code",
   "execution_count": null,
   "id": "ecological-pension",
   "metadata": {},
   "outputs": [],
   "source": []
  }
 ],
 "metadata": {
  "kernelspec": {
   "display_name": "Python 3",
   "language": "python",
   "name": "python3"
  },
  "language_info": {
   "codemirror_mode": {
    "name": "ipython",
    "version": 3
   },
   "file_extension": ".py",
   "mimetype": "text/x-python",
   "name": "python",
   "nbconvert_exporter": "python",
   "pygments_lexer": "ipython3",
   "version": "3.7.10"
  }
 },
 "nbformat": 4,
 "nbformat_minor": 5
}
