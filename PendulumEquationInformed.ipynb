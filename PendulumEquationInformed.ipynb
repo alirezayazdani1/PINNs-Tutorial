{
 "cells": [
  {
   "cell_type": "code",
   "execution_count": 1,
   "id": "51fde608",
   "metadata": {},
   "outputs": [],
   "source": [
    "import numpy as np\n",
    "import numpy.random as npr\n",
    "\n",
    "import torch\n",
    "from torch import nn\n",
    "import torch.nn.functional as F\n",
    "import torch.optim as optim\n",
    "from torch.optim.lr_scheduler import ReduceLROnPlateau\n",
    "from torch import autograd\n",
    "\n",
    "from time import time\n",
    "\n",
    "import gym\n",
    "import gym_StochPendulum\n",
    "from gym import logger as gymlogger\n",
    "from gym.wrappers import Monitor\n",
    "gymlogger.set_level(40) #error only\n",
    "import matplotlib\n",
    "import matplotlib.pyplot as plt\n",
    "%matplotlib inline\n",
    "import math\n",
    "import glob\n",
    "import io\n",
    "import base64\n",
    "from IPython.display import HTML\n",
    "\n",
    "from xvfbwrapper import Xvfb\n",
    "from IPython import display as ipythondisplay\n",
    "from pyvirtualdisplay import Display\n",
    "\n",
    "display = Display(visible=0, size=(1400, 900)).start()"
   ]
  },
  {
   "cell_type": "code",
   "execution_count": 2,
   "id": "aeeb625b",
   "metadata": {},
   "outputs": [],
   "source": [
    "class Config(object):\n",
    "    batch_size = 256\n",
    "    logging_frequency_train = 1\n",
    "    logging_frequency_valid = 10\n",
    "    clip_norm = True\n",
    "    max_gradient_norm = 1.\n",
    "    random_seed = 1234\n",
    "    n_hidden = 32\n",
    "    verbose = True\n",
    "    \n",
    "    n_state = 2\n",
    "    T_terminal = 10.\n",
    "    n_timestep = 200\n",
    "    max_speed = 8.\n",
    "    max_torque = 10.\n",
    "    g = 10.\n",
    "    m = 2.\n",
    "    l = 0.5\n",
    "    b = 0.1\n",
    "    I = m * l**2\n",
    "    sigma = [0., 1.]\n",
    "    R = 0.1\n",
    "    Q = [4., 0.05]\n",
    "    G = [0., 1./I]\n",
    "    target = [np.pi, 0.]\n",
    "    init_state = [0., 0.]\n",
    "    \n",
    "    use_gpu = False\n",
    "    if use_gpu:\n",
    "        device = 'cuda:0'\n",
    "    else:\n",
    "        device = 'cpu'"
   ]
  },
  {
   "cell_type": "code",
   "execution_count": 3,
   "id": "c1923782",
   "metadata": {},
   "outputs": [],
   "source": [
    "class HJBNet(nn.Module):\n",
    "    def __init__(self, n_in: int, n_out: int, n_hidden: int=256):\n",
    "        super().__init__()\n",
    "        self.HJB_net = nn.Sequential(\n",
    "            nn.Linear(n_in, n_hidden),\n",
    "            nn.Softplus(),\n",
    "            nn.Linear(n_hidden, n_hidden),\n",
    "            nn.Softplus(),\n",
    "            nn.Linear(n_hidden, n_out)\n",
    "        )\n",
    "        \n",
    "    def forward(self, t, x):\n",
    "        z = torch.cat((t, x), dim=-1)\n",
    "        return self.HJB_net(z)"
   ]
  },
  {
   "cell_type": "code",
   "execution_count": 4,
   "id": "0eecf127",
   "metadata": {},
   "outputs": [],
   "source": [
    "class PendulumEnv():\n",
    "    def __init__(self, cfg):\n",
    "        self.g = cfg.g # gravitational acceleration\n",
    "        self.m = cfg.m # pendulum mass\n",
    "        self.l = cfg.l # pendulum arm length\n",
    "        self.b = cfg.b # pendulum damping coefficient\n",
    "        self.I = cfg.I # pendulum inertia\n",
    "        self.max_speed = cfg.max_speed # maximum pendulum speed\n",
    "        self.max_torque = cfg.max_torque # maximum applied torque (control)\n",
    "        \n",
    "        self.sigma = torch.Tensor( np.diag(cfg.sigma) ) # Gaussian noise added to pendulum velocity\n",
    "        self.R = torch.Tensor( np.array([[cfg.R]]) )\n",
    "        self.Q = torch.Tensor( np.array([cfg.Q]) )\n",
    "        self.target = torch.Tensor( np.array([cfg.target]) )\n",
    "        self.G = torch.Tensor( np.array([cfg.G]) )\n",
    "    \n",
    "    def cost(self, x, u): # M x D, M x 1\n",
    "        batch_size = x.shape[0]\n",
    "        Q = self.Q.repeat(batch_size, 1) # M x D\n",
    "        target = self.target.repeat(batch_size, 1)\n",
    "        R = self.R.repeat(batch_size, 1)\n",
    "\n",
    "        state_cost = 0.5 * (Q*(x-target)**2).sum(dim=1, keepdim=True)\n",
    "        control_cost = 0.5 * R * u**2\n",
    "        return state_cost + control_cost # M x 1\n",
    "    \n",
    "    def terminal_cost(self, x): # M x D\n",
    "        batch_size = x.shape[0]\n",
    "        Q = self.Q.repeat(batch_size, 1)\n",
    "        target = self.target.repeat(batch_size, 1)\n",
    "        return 0.5 * (Q*(x-target)**2).sum(dim=1, keepdim=True) # M x 1\n",
    "    \n",
    "    def grad_terminal_cost(self, x): # M x D\n",
    "        batch_size = x.shape[0]\n",
    "        Q = self.Q.repeat(batch_size, 1)\n",
    "        target = self.target.repeat(batch_size, 1)\n",
    "        return Q * (x-target) # M x D\n",
    "    \n",
    "    def b_(self, x, u): # M x D, M x 1\n",
    "        F = (-self.b/self.I)*x[:,1:2] - (self.g/self.l)*torch.sin(x[:,0:1]) #+torch.Tensor([np.pi])\n",
    "        b0 = x[:,1:2].clone()\n",
    "        b1 = F + u/self.I\n",
    "        return torch.cat((b0, b1), dim=-1) # M x D\n",
    "        \n",
    "    def sigma_(self, batch_size):\n",
    "        sigma_l = batch_size * [self.sigma]\n",
    "        return torch.stack(sigma_l, dim=0) # M x D x D\n",
    "    \n",
    "    def optimal_control(self, v_x): # M x D\n",
    "        batch_size = v_x.shape[0]\n",
    "        R = self.R.repeat(batch_size, 1) # M x 1\n",
    "        G = self.G.repeat(batch_size, 1) # M x D\n",
    "        return -torch.div(1., R) * (G*v_x).sum(dim=1, keepdim=True) # M x 1\n",
    "    \n",
    "    def step(self, dt, dW, x, v, v_x): # M x 1, M x D, M x D, M x 1, M x D\n",
    "        batch_size = x.shape[0]\n",
    "        sigma_dW = torch.matmul(self.sigma_(batch_size), dW.unsqueeze(dim=-1)).squeeze(dim=-1)\n",
    "        \n",
    "        u_opt = self.optimal_control(v_x) # M x 1\n",
    "        u_opt = torch.clamp(u_opt, -self.max_torque, self.max_torque)\n",
    "        \n",
    "        h = self.cost(x, u_opt) # M x 1\n",
    "        \n",
    "        def forward_sde():\n",
    "            return x + self.b_(x, u_opt)*dt + sigma_dW\n",
    "        \n",
    "        def backward_sde():\n",
    "            return v - h*dt + (v_x*sigma_dW).sum(dim=1, keepdim=True)\n",
    "        return forward_sde(), backward_sde(), h, u_opt"
   ]
  },
  {
   "cell_type": "code",
   "execution_count": 5,
   "id": "ad56a9d5",
   "metadata": {},
   "outputs": [],
   "source": [
    "class DeepFBSDE():\n",
    "    def __init__(self, cfg):\n",
    "        self.cfg = cfg\n",
    "        torch.manual_seed(self.cfg.random_seed)\n",
    "        npr.seed(self.cfg.random_seed)\n",
    "        self.cost_history = []\n",
    "        self.loss_history = []\n",
    "        \n",
    "        self.T = self.cfg.T_terminal\n",
    "        self.M = self.cfg.batch_size\n",
    "        self.N = self.cfg.n_timestep\n",
    "        self.D = self.cfg.n_state\n",
    "        \n",
    "        self.max_speed = self.cfg.max_speed\n",
    "        self.max_torque = self.cfg.max_torque\n",
    "        self.g = self.cfg.g\n",
    "        self.m = self.cfg.m\n",
    "        self.l = self.cfg.l\n",
    "        self.init_state = self.cfg.init_state\n",
    "        \n",
    "        self.device = torch.device(self.cfg.device)\n",
    "        \n",
    "        print('Using Pendulum environment')\n",
    "        self.env = PendulumEnv(self.cfg)\n",
    "        \n",
    "        print(f'Using a batch size of {self.M} episodes')\n",
    "        self.Vnet = HJBNet(n_in=self.D+1, n_out=1, n_hidden=self.cfg.n_hidden).to(self.device)\n",
    "        \n",
    "        print('\\nModel trainable paramaters:')\n",
    "        for name, param in self.Vnet.named_parameters():\n",
    "            if param.requires_grad:\n",
    "                print(name, ', shape:', list(param.shape))\n",
    "        print('\\n')\n",
    "        \n",
    "    def reset(self, batch_size):\n",
    "        high = np.repeat(np.array([self.init_state]), batch_size, axis=0)\n",
    "        Xi = npr.uniform(low=-high, high=high)\n",
    "        return Xi\n",
    "\n",
    "    def net_v_z(self, t, x): # M x 1, M x D\n",
    "        v = self.Vnet(t, x) # M x 1\n",
    "        z = autograd.grad(outputs=v, inputs=x, grad_outputs=torch.ones_like(v), create_graph=True)[0] # M x D\n",
    "        return v, z\n",
    "        \n",
    "    def loss_function(self, t, Xi, W):\n",
    "        cost_tot = 0\n",
    "        X_list = []\n",
    "        Y_list = []\n",
    "        U_list = []\n",
    "        \n",
    "        t0 = t[:,0,:] # M x 1\n",
    "        W0 = W[:,0,:] # M x D\n",
    "        X0 = Xi # M x D\n",
    "        Y0, Z0 = self.net_v_z(t0, X0) # output: M x 1, M x D\n",
    "        \n",
    "        X_list.append(X0)\n",
    "        Y_list.append(Y0)\n",
    "        \n",
    "        for n in range(0, self.N):\n",
    "            t1 = t[:,n+1,:]\n",
    "            W1 = W[:,n+1,:]\n",
    "            dt = t1 - t0\n",
    "            dW = W1 - W0\n",
    "            \n",
    "            X1, Y1, cost, U_opt = self.env.step(dt, dW, X0, Y0, Z0)\n",
    "            \n",
    "            _, Z1 = self.net_v_z(t1, X1)\n",
    "\n",
    "            t0 = t1\n",
    "            W0 = W1\n",
    "            X0 = X1\n",
    "            Y0 = Y1\n",
    "            Z0 = Z1\n",
    "            \n",
    "            cost_tot += cost.mean()\n",
    "            X_list.append(X0)\n",
    "            Y_list.append(Y0)\n",
    "            U_list.append(U_opt)\n",
    "            \n",
    "        loss = F.mse_loss(input=Y1, target=self.env.terminal_cost(X1)) + \\\n",
    "               F.mse_loss(input=Z1, target=self.env.grad_terminal_cost(X1))\n",
    "\n",
    "        X = torch.stack(X_list, dim=1).squeeze()\n",
    "        Y = torch.stack(Y_list, dim=1).squeeze()\n",
    "        U = torch.stack(U_list, dim=1).squeeze()\n",
    "        return loss, cost_tot, X, Y, U\n",
    "        \n",
    "    def fetch_batch(self, batch_size):    \n",
    "        T = self.T\n",
    "        M = batch_size\n",
    "        N = self.N\n",
    "        D = self.D\n",
    "        \n",
    "        Dt = np.zeros((M, N+1, 1))\n",
    "        DW = np.zeros((M, N+1, D))\n",
    "        Xi = self.reset(batch_size)\n",
    "        \n",
    "        dt = T / N\n",
    "        Dt[:,1:,:] = dt\n",
    "        DW[:,1:,:] = np.sqrt(dt) * npr.normal(size=(M, N, D))\n",
    "        \n",
    "        t = np.cumsum(Dt, axis=1) # M x (N+1) x 1\n",
    "        W = np.cumsum(DW, axis=1) # M x (N+1) x D\n",
    "        \n",
    "        t_batch = torch.as_tensor(t, dtype=torch.float, device=self.device).requires_grad_(True)\n",
    "        Xi_batch = torch.as_tensor(Xi, dtype=torch.float, device=self.device).requires_grad_(True)\n",
    "        W_batch = torch.as_tensor(W, dtype=torch.float, device=self.device)\n",
    "        return t_batch, Xi_batch, W_batch\n",
    "    \n",
    "    def train_loop(self, n_epoch, init_lr_value, fixed_lr=True, l2_reg=0.):\n",
    "        opt = optim.Adam(params=[{'params': self.Vnet.parameters()}], lr=init_lr_value, weight_decay=l2_reg)\n",
    "        if fixed_lr:\n",
    "            print('Using a fixed learning rate of:', init_lr_value)\n",
    "            lr_sched = ReduceLROnPlateau(opt, 'min', patience=1000, factor=0.9999, verbose=True)\n",
    "        else:\n",
    "            lr_sched = ReduceLROnPlateau(opt, 'min', patience=10, factor=0.75, verbose=True)\n",
    "            \n",
    "        epoch = 0\n",
    "        while epoch < n_epoch:\n",
    "            iter_start_time = time()\n",
    "            t_batch, Xi_batch, W_batch = self.fetch_batch(batch_size=self.M)\n",
    "            loss, _, _, _, _ = self.loss_function(t_batch, Xi_batch, W_batch)\n",
    "            opt.zero_grad()\n",
    "            loss.backward(retain_graph=True)\n",
    "            if self.cfg.clip_norm:\n",
    "                nn.utils.clip_grad_norm_(self.Vnet.parameters(), self.cfg.max_gradient_norm)\n",
    "            opt.step()\n",
    "            epoch += 1\n",
    "            \n",
    "            if epoch%self.cfg.logging_frequency_valid == 0:\n",
    "                iter_time = time() - iter_start_time\n",
    "                t_batch, Xi_batch, W_batch = self.fetch_batch(batch_size=self.M)\n",
    "                loss, cost, _, _, _ = self.loss_function(t_batch, Xi_batch, W_batch)\n",
    "                lr_sched.step(loss)\n",
    "                self.loss_history.append(loss)\n",
    "                self.cost_history.append(cost)\n",
    "                self.lr = opt.param_groups[0]['lr']\n",
    "                print(f'validation epoch: {epoch}, NN loss: {loss:0.3e}, Avg. cost: {cost:0.3e} ' +\n",
    "                      f'time/iter: {iter_time:0.3e} s')\n",
    "        return\n",
    "    \n",
    "    def predict(self, n_episode):\n",
    "        t_test, Xi_test, W_test = self.fetch_batch(batch_size=n_episode)\n",
    "        test_loss, test_cost, X_pred, v_pred, u_pred = self.loss_function(t_test, Xi_test, W_test)\n",
    "        \n",
    "        t_test = t_test.squeeze(dim=-1).cpu().data.numpy()\n",
    "        X_pred = X_pred.cpu().data.numpy()\n",
    "        v_pred = v_pred.cpu().data.numpy()\n",
    "        u_pred = u_pred.cpu().data.numpy()\n",
    "        return t_test, X_pred, v_pred, u_pred, test_loss, test_cost"
   ]
  },
  {
   "cell_type": "code",
   "execution_count": 6,
   "id": "1391d4fa",
   "metadata": {},
   "outputs": [
    {
     "name": "stdout",
     "output_type": "stream",
     "text": [
      "Using Pendulum environment\n",
      "Using a batch size of 256 episodes\n",
      "\n",
      "Model trainable paramaters:\n",
      "HJB_net.0.weight , shape: [32, 3]\n",
      "HJB_net.0.bias , shape: [32]\n",
      "HJB_net.2.weight , shape: [32, 32]\n",
      "HJB_net.2.bias , shape: [32]\n",
      "HJB_net.4.weight , shape: [1, 32]\n",
      "HJB_net.4.bias , shape: [1]\n",
      "\n",
      "\n"
     ]
    }
   ],
   "source": [
    "cfg = Config()\n",
    "model = DeepFBSDE(cfg)"
   ]
  },
  {
   "cell_type": "code",
   "execution_count": 16,
   "id": "a0fe32e6",
   "metadata": {},
   "outputs": [
    {
     "name": "stdout",
     "output_type": "stream",
     "text": [
      "Using a fixed learning rate of: 0.001\n",
      "validation epoch: 10, NN loss: 3.345e+01, Avg. cost: 3.122e+02 time/iter: 1.345e+00 s\n",
      "validation epoch: 20, NN loss: 2.587e+01, Avg. cost: 3.082e+02 time/iter: 1.303e+00 s\n",
      "validation epoch: 30, NN loss: 1.665e+01, Avg. cost: 3.022e+02 time/iter: 1.298e+00 s\n",
      "validation epoch: 40, NN loss: 1.011e+01, Avg. cost: 2.955e+02 time/iter: 1.455e+00 s\n",
      "validation epoch: 50, NN loss: 5.166e+00, Avg. cost: 2.933e+02 time/iter: 1.311e+00 s\n",
      "validation epoch: 60, NN loss: 3.143e+00, Avg. cost: 2.965e+02 time/iter: 1.277e+00 s\n",
      "validation epoch: 70, NN loss: 1.701e+00, Avg. cost: 2.920e+02 time/iter: 1.410e+00 s\n",
      "validation epoch: 80, NN loss: 5.102e-01, Avg. cost: 2.928e+02 time/iter: 1.288e+00 s\n",
      "validation epoch: 90, NN loss: 8.196e-01, Avg. cost: 3.057e+02 time/iter: 1.428e+00 s\n",
      "validation epoch: 100, NN loss: 4.528e-01, Avg. cost: 2.928e+02 time/iter: 1.409e+00 s\n",
      "validation epoch: 110, NN loss: 5.034e-01, Avg. cost: 2.957e+02 time/iter: 1.488e+00 s\n",
      "validation epoch: 120, NN loss: 4.319e-01, Avg. cost: 2.931e+02 time/iter: 1.547e+00 s\n",
      "validation epoch: 130, NN loss: 4.443e-01, Avg. cost: 2.972e+02 time/iter: 1.279e+00 s\n",
      "validation epoch: 140, NN loss: 4.672e-01, Avg. cost: 2.943e+02 time/iter: 1.493e+00 s\n",
      "validation epoch: 150, NN loss: 3.983e-01, Avg. cost: 2.908e+02 time/iter: 1.272e+00 s\n",
      "validation epoch: 160, NN loss: 4.262e-01, Avg. cost: 2.893e+02 time/iter: 1.335e+00 s\n",
      "validation epoch: 170, NN loss: 5.113e-01, Avg. cost: 2.938e+02 time/iter: 1.444e+00 s\n",
      "validation epoch: 180, NN loss: 5.960e-01, Avg. cost: 2.921e+02 time/iter: 1.545e+00 s\n",
      "validation epoch: 190, NN loss: 3.838e-01, Avg. cost: 2.909e+02 time/iter: 1.327e+00 s\n",
      "validation epoch: 200, NN loss: 4.517e-01, Avg. cost: 2.933e+02 time/iter: 1.335e+00 s\n"
     ]
    }
   ],
   "source": [
    "model.train_loop(n_epoch=800, init_lr_value=1e-3, fixed_lr=True, l2_reg=0.0001)"
   ]
  },
  {
   "cell_type": "code",
   "execution_count": 8,
   "id": "3deafd69",
   "metadata": {},
   "outputs": [],
   "source": [
    "# torch.save(model.Vnet.state_dict(), './saved-models/torch-model')"
   ]
  },
  {
   "cell_type": "code",
   "execution_count": 9,
   "id": "026ad6c3",
   "metadata": {},
   "outputs": [],
   "source": [
    "# NN = HJBNet(n_in=cfg.n_state+1, n_out=1, n_hidden=cfg.n_hidden)\n",
    "# NN.load_state_dict(torch.load('./saved-models/torch-model'))\n",
    "# NN.eval()"
   ]
  },
  {
   "cell_type": "code",
   "execution_count": 17,
   "id": "1c7f2ab4",
   "metadata": {},
   "outputs": [
    {
     "data": {
      "text/plain": [
       "[<matplotlib.lines.Line2D at 0x7ffb8fba01d0>,\n",
       " <matplotlib.lines.Line2D at 0x7ffb8fb7cf10>]"
      ]
     },
     "execution_count": 17,
     "metadata": {},
     "output_type": "execute_result"
    },
    {
     "data": {
      "image/png": "[encoded data removed]",
      "text/plain": [
       "<Figure size 432x288 with 1 Axes>"
      ]
     },
     "metadata": {
      "needs_background": "light"
     },
     "output_type": "display_data"
    }
   ],
   "source": [
    "t_pred, X_pred, v_pred, u_pred, loss, cost = model.predict(128)\n",
    "\n",
    "plt.plot(t_pred[0,:], X_pred.mean(axis=0))"
   ]
  },
  {
   "cell_type": "code",
   "execution_count": 18,
   "id": "1e18ed19",
   "metadata": {},
   "outputs": [
    {
     "data": {
      "text/plain": [
       "[<matplotlib.lines.Line2D at 0x7ffb9077dbd0>]"
      ]
     },
     "execution_count": 18,
     "metadata": {},
     "output_type": "execute_result"
    },
    {
     "data": {
      "image/png": "[encoded data removed]",
      "text/plain": [
       "<Figure size 432x288 with 1 Axes>"
      ]
     },
     "metadata": {
      "needs_background": "light"
     },
     "output_type": "display_data"
    }
   ],
   "source": [
    "plt.plot(t_pred[0,:-1], u_pred.mean(0))"
   ]
  },
  {
   "cell_type": "code",
   "execution_count": 19,
   "id": "ec0fc1ba",
   "metadata": {},
   "outputs": [
    {
     "data": {
      "text/plain": [
       "[<matplotlib.lines.Line2D at 0x7ffb42f60710>]"
      ]
     },
     "execution_count": 19,
     "metadata": {},
     "output_type": "execute_result"
    },
    {
     "data": {
      "image/png": "[encoded data removed]",
      "text/plain": [
       "<Figure size 432x288 with 1 Axes>"
      ]
     },
     "metadata": {
      "needs_background": "light"
     },
     "output_type": "display_data"
    }
   ],
   "source": [
    "plt.plot(t_pred[0,:], v_pred.mean(0))"
   ]
  },
  {
   "cell_type": "code",
   "execution_count": 20,
   "id": "fe32b51d",
   "metadata": {},
   "outputs": [],
   "source": [
    "\"\"\"\n",
    "Utility functions to enable video recording of gym environment and displaying it\n",
    "To enable video, just do \"env = wrap_env(env)\"\"\n",
    "\"\"\"\n",
    "\n",
    "def show_video():\n",
    "  mp4list = glob.glob('video/*.mp4')\n",
    "  if len(mp4list) > 0:\n",
    "    mp4 = mp4list[0]\n",
    "    video = io.open(mp4, 'r+b').read()\n",
    "    encoded = base64.b64encode(video)\n",
    "    ipythondisplay.display(HTML(data='''<video alt=\"test\" autoplay \n",
    "                loop controls style=\"height: 400px;\">\n",
    "                <source src=\"data:video/mp4;base64,{0}\" type=\"video/mp4\" />\n",
    "             </video>'''.format(encoded.decode('ascii'))))\n",
    "  else: \n",
    "    print(\"Could not find video\")\n",
    "    \n",
    "def wrap_env(env):\n",
    "  env = Monitor(env, './video', force=True)\n",
    "  return env"
   ]
  },
  {
   "cell_type": "code",
   "execution_count": 22,
   "id": "d9626fbc",
   "metadata": {},
   "outputs": [
    {
     "name": "stdout",
     "output_type": "stream",
     "text": [
      "Episode finished after 10.000 seconds with cost = 285.442\n"
     ]
    },
    {
     "data": {
      "text/html": [
       "<video alt=\"test\" autoplay \n",
       "                loop controls style=\"height: 400px;\">\n",
       "                <source src=\"data:video/mp4;base64,AAAAIGZ0eXBpc29tAAACAGlzb21pc28yYXZjMW1wNDEAAAAIZnJlZQAAAAhtZGF0AAAA1m1vb3YAAABsbXZoZAAAAAAAAAAAAAAAAAAAA+gAAAAAAAEAAAEAAAAAAAAAAAAAAAABAAAAAAAAAAAAAAAAAAAAAQAAAAAAAAAAAAAAAAAAQAAAAAAAAAAAAAAAAAAAAAAAAAAAAAAAAAAAAAAAAAIAAABidWR0YQAAAFptZXRhAAAAAAAAACFoZGxyAAAAAAAAAABtZGlyYXBwbAAAAAAAAAAAAAAAAC1pbHN0AAAAJal0b28AAAAdZGF0YQAAAAEAAAAATGF2ZjU4LjI5LjEwMA==\" type=\"video/mp4\" />\n",
       "             </video>"
      ],
      "text/plain": [
       "<IPython.core.display.HTML object>"
      ]
     },
     "metadata": {},
     "output_type": "display_data"
    }
   ],
   "source": [
    "dt = cfg.T_terminal / cfg.n_timestep\n",
    "sigma = cfg.sigma[1]\n",
    "kwargs = {'sigma': sigma, 'dt': dt}\n",
    "eval_env = wrap_env(gym.make('StochPendulum-v0', **kwargs))\n",
    "\n",
    "t = 0\n",
    "episodic_reward = 0\n",
    "prev_state = eval_env.reset()\n",
    "torch_t = torch.Tensor( np.array( [[t]] ) )\n",
    "prev_state = np.array( [[prev_state[0], prev_state[1]]] )\n",
    "torch_prev_state = torch.Tensor(prev_state).requires_grad_(True)\n",
    "_, z = model.net_v_z(torch_t, torch_prev_state)\n",
    "\n",
    "for n in range(cfg.n_timestep):\n",
    "    eval_env.render()\n",
    "    action = model.env.optimal_control(z)\n",
    "    state, reward, done, info = eval_env.step(action.detach().numpy()[0])\n",
    "    episodic_reward += -reward\n",
    "    t += dt\n",
    "    prev_state = np.array( [[state[0], state[1]]] )\n",
    "    if done:\n",
    "        print(f'Episode finished after {t:.3f} seconds with cost = {episodic_reward:.3f}')\n",
    "        break\n",
    "    torch_t = torch.Tensor(np.array( [[t]] ))\n",
    "    torch_prev_state = torch.Tensor(prev_state).requires_grad_(True)\n",
    "    _, z = model.net_v_z(torch_t, torch_prev_state)\n",
    "eval_env.close()\n",
    "show_video()"
   ]
  },
  {
   "cell_type": "code",
   "execution_count": null,
   "id": "aea7265d",
   "metadata": {},
   "outputs": [],
   "source": []
  }
 ],
 "metadata": {
  "kernelspec": {
   "display_name": "Python 3",
   "language": "python",
   "name": "python3"
  },
  "language_info": {
   "codemirror_mode": {
    "name": "ipython",
    "version": 3
   },
   "file_extension": ".py",
   "mimetype": "text/x-python",
   "name": "python",
   "nbconvert_exporter": "python",
   "pygments_lexer": "ipython3",
   "version": "3.7.10"
  }
 },
 "nbformat": 4,
 "nbformat_minor": 5
}
